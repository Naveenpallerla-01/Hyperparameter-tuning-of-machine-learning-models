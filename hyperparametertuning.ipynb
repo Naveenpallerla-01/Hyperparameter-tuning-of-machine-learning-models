{
  "nbformat": 4,
  "nbformat_minor": 0,
  "metadata": {
    "colab": {
      "provenance": [],
      "authorship_tag": "ABX9TyNXVndSyEiJGCF0F2HbWJGj",
      "include_colab_link": true
    },
    "kernelspec": {
      "name": "python3",
      "display_name": "Python 3"
    },
    "language_info": {
      "name": "python"
    }
  },
  "cells": [
    {
      "cell_type": "markdown",
      "metadata": {
        "id": "view-in-github",
        "colab_type": "text"
      },
      "source": [
        "<a href=\"https://colab.research.google.com/github/Naveenpallerla-01/Hyperparameter-tuning-of-machine-learning-models/blob/main/hyperparametertuning.ipynb\" target=\"_parent\"><img src=\"https://colab.research.google.com/assets/colab-badge.svg\" alt=\"Open In Colab\"/></a>"
      ]
    },
    {
      "cell_type": "markdown",
      "source": [
        "#importing and reading data\n"
      ],
      "metadata": {
        "id": "Qi-0eQhtkd8I"
      }
    },
    {
      "cell_type": "code",
      "execution_count": null,
      "metadata": {
        "id": "2O8ovY1CkTBA",
        "colab": {
          "base_uri": "https://localhost:8080/"
        },
        "outputId": "76ccfd5c-a2ef-47f4-a75e-aea90433dcd5"
      },
      "outputs": [
        {
          "output_type": "stream",
          "name": "stdout",
          "text": [
            "Mounted at /content/drive\n"
          ]
        }
      ],
      "source": [
        "from google.colab import drive\n",
        "drive.mount('/content/drive')"
      ]
    },
    {
      "cell_type": "code",
      "source": [
        "import numpy as np\n",
        "import pandas as pd\n",
        "import matplotlib.pyplot as plt\n",
        "import warnings\n",
        "warnings.filterwarnings('ignore')\n",
        "\n",
        "\n",
        "import time\n",
        "import random"
      ],
      "metadata": {
        "id": "3fwp2BQkkbLT"
      },
      "execution_count": null,
      "outputs": []
    },
    {
      "cell_type": "code",
      "source": [
        "\"\"\"from sklearn.datasets import load_wine\n",
        "wine_data = load_wine()\n",
        "data = pd.DataFrame(wine_data['data'], columns=wine_data['feature_names'])\n",
        "x=data.iloc[:,:]\n",
        "y=wine_data.target\n",
        "print(y)\"\"\"\n"
      ],
      "metadata": {
        "colab": {
          "base_uri": "https://localhost:8080/"
        },
        "id": "QkvR8idWajDr",
        "outputId": "3fff1984-b4e3-41d3-b0da-c184093bc384"
      },
      "execution_count": null,
      "outputs": [
        {
          "output_type": "execute_result",
          "data": {
            "text/plain": [
              "\"from sklearn.datasets import load_wine\\nwine_data = load_wine()\\ndata = pd.DataFrame(wine_data['data'], columns=wine_data['feature_names'])\\nx=data.iloc[:,:]\\ny=wine_data.target\\nprint(y)\""
            ],
            "application/vnd.google.colaboratory.intrinsic+json": {
              "type": "string"
            }
          },
          "metadata": {},
          "execution_count": 4
        }
      ]
    },
    {
      "cell_type": "code",
      "source": [
        "from sklearn.datasets import load_iris\n",
        "df = load_iris()\n",
        "df.target[[10, 25, 50]]\n",
        "data = pd.DataFrame(data=df['data'], columns=df['feature_names'])\n",
        "x=data.iloc[:,:]\n",
        "y=df.target\n",
        "print(x,y)"
      ],
      "metadata": {
        "colab": {
          "base_uri": "https://localhost:8080/"
        },
        "id": "FHR2JHvlkctS",
        "outputId": "adfe9ac4-63f1-4fc4-db76-c069d125fa2b"
      },
      "execution_count": null,
      "outputs": [
        {
          "output_type": "stream",
          "name": "stdout",
          "text": [
            "     sepal length (cm)  sepal width (cm)  petal length (cm)  petal width (cm)\n",
            "0                  5.1               3.5                1.4               0.2\n",
            "1                  4.9               3.0                1.4               0.2\n",
            "2                  4.7               3.2                1.3               0.2\n",
            "3                  4.6               3.1                1.5               0.2\n",
            "4                  5.0               3.6                1.4               0.2\n",
            "..                 ...               ...                ...               ...\n",
            "145                6.7               3.0                5.2               2.3\n",
            "146                6.3               2.5                5.0               1.9\n",
            "147                6.5               3.0                5.2               2.0\n",
            "148                6.2               3.4                5.4               2.3\n",
            "149                5.9               3.0                5.1               1.8\n",
            "\n",
            "[150 rows x 4 columns] [0 0 0 0 0 0 0 0 0 0 0 0 0 0 0 0 0 0 0 0 0 0 0 0 0 0 0 0 0 0 0 0 0 0 0 0 0\n",
            " 0 0 0 0 0 0 0 0 0 0 0 0 0 1 1 1 1 1 1 1 1 1 1 1 1 1 1 1 1 1 1 1 1 1 1 1 1\n",
            " 1 1 1 1 1 1 1 1 1 1 1 1 1 1 1 1 1 1 1 1 1 1 1 1 1 1 2 2 2 2 2 2 2 2 2 2 2\n",
            " 2 2 2 2 2 2 2 2 2 2 2 2 2 2 2 2 2 2 2 2 2 2 2 2 2 2 2 2 2 2 2 2 2 2 2 2 2\n",
            " 2 2]\n"
          ]
        }
      ]
    },
    {
      "cell_type": "code",
      "source": [
        "\"\"\"from sklearn.datasets import load_breast_cancer\n",
        "\n",
        "# Load the breast cancer dataset\n",
        "df = load_breast_cancer()\n",
        "data= pd.DataFrame(data=df['data'])\n",
        "x=data.iloc[:,:]\n",
        "y=df.target\n",
        "print(x,y)\"\"\""
      ],
      "metadata": {
        "colab": {
          "base_uri": "https://localhost:8080/"
        },
        "id": "Khr0GUlYRCoE",
        "outputId": "4e212ea3-7ffc-425d-9dc6-0b3ffdc9f6e9"
      },
      "execution_count": null,
      "outputs": [
        {
          "output_type": "execute_result",
          "data": {
            "text/plain": [
              "\"from sklearn.datasets import load_breast_cancer\\n\\n# Load the breast cancer dataset\\ndf = load_breast_cancer()\\ndata= pd.DataFrame(data=df['data'])\\nx=data.iloc[:,:]\\ny=df.target\\nprint(x,y)\""
            ],
            "application/vnd.google.colaboratory.intrinsic+json": {
              "type": "string"
            }
          },
          "metadata": {},
          "execution_count": 6
        }
      ]
    },
    {
      "cell_type": "code",
      "source": [
        "\"\"\"from sklearn.datasets import load_digits\n",
        "df = load_digits()\n",
        "data= pd.DataFrame(data=df['data'])\n",
        "x=data.iloc[:,:]\n",
        "y=df.target\n",
        "print(x,y)\"\"\""
      ],
      "metadata": {
        "id": "7FChjm0uaWpK",
        "colab": {
          "base_uri": "https://localhost:8080/"
        },
        "outputId": "d1f549a6-2650-4713-cace-a7a9a21fb404"
      },
      "execution_count": null,
      "outputs": [
        {
          "output_type": "execute_result",
          "data": {
            "text/plain": [
              "\"from sklearn.datasets import load_digits\\ndf = load_digits()\\ndata= pd.DataFrame(data=df['data'])\\nx=data.iloc[:,:]\\ny=df.target\\nprint(x,y)\""
            ],
            "application/vnd.google.colaboratory.intrinsic+json": {
              "type": "string"
            }
          },
          "metadata": {},
          "execution_count": 7
        }
      ]
    },
    {
      "cell_type": "code",
      "source": [
        "\"\"\"data=pd.read_csv(\"/content/drive/MyDrive/datasets/balancescale.csv\")\n",
        "dm={\"L\":1,\n",
        "    \"R\":2,\n",
        "    \"B\":3}\n",
        "data['class name']=data['class name'].map(dm)\n",
        "x=data.iloc[:,1: ]\n",
        "y=data.iloc[:,0]\n",
        "print(x)\"\"\""
      ],
      "metadata": {
        "colab": {
          "base_uri": "https://localhost:8080/"
        },
        "id": "eqsd5tG72pt8",
        "outputId": "996a45e7-648b-4fe1-d135-a16eecbfc630"
      },
      "execution_count": null,
      "outputs": [
        {
          "output_type": "execute_result",
          "data": {
            "text/plain": [
              "'data=pd.read_csv(\"/content/drive/MyDrive/datasets/balancescale.csv\")\\ndm={\"L\":1,\\n    \"R\":2,\\n    \"B\":3}\\ndata[\\'class name\\']=data[\\'class name\\'].map(dm)\\nx=data.iloc[:,1: ]\\ny=data.iloc[:,0]\\nprint(x)'"
            ],
            "application/vnd.google.colaboratory.intrinsic+json": {
              "type": "string"
            }
          },
          "metadata": {},
          "execution_count": 8
        }
      ]
    },
    {
      "cell_type": "code",
      "source": [
        "data.head(10)"
      ],
      "metadata": {
        "colab": {
          "base_uri": "https://localhost:8080/",
          "height": 363
        },
        "id": "0u_RjeiHkcvr",
        "outputId": "24290be4-f8ef-4a5f-df64-52e4332777e6"
      },
      "execution_count": null,
      "outputs": [
        {
          "output_type": "execute_result",
          "data": {
            "text/plain": [
              "   sepal length (cm)  sepal width (cm)  petal length (cm)  petal width (cm)\n",
              "0                5.1               3.5                1.4               0.2\n",
              "1                4.9               3.0                1.4               0.2\n",
              "2                4.7               3.2                1.3               0.2\n",
              "3                4.6               3.1                1.5               0.2\n",
              "4                5.0               3.6                1.4               0.2\n",
              "5                5.4               3.9                1.7               0.4\n",
              "6                4.6               3.4                1.4               0.3\n",
              "7                5.0               3.4                1.5               0.2\n",
              "8                4.4               2.9                1.4               0.2\n",
              "9                4.9               3.1                1.5               0.1"
            ],
            "text/html": [
              "\n",
              "  <div id=\"df-bce72ebd-a295-4fce-9788-007f4055d041\">\n",
              "    <div class=\"colab-df-container\">\n",
              "      <div>\n",
              "<style scoped>\n",
              "    .dataframe tbody tr th:only-of-type {\n",
              "        vertical-align: middle;\n",
              "    }\n",
              "\n",
              "    .dataframe tbody tr th {\n",
              "        vertical-align: top;\n",
              "    }\n",
              "\n",
              "    .dataframe thead th {\n",
              "        text-align: right;\n",
              "    }\n",
              "</style>\n",
              "<table border=\"1\" class=\"dataframe\">\n",
              "  <thead>\n",
              "    <tr style=\"text-align: right;\">\n",
              "      <th></th>\n",
              "      <th>sepal length (cm)</th>\n",
              "      <th>sepal width (cm)</th>\n",
              "      <th>petal length (cm)</th>\n",
              "      <th>petal width (cm)</th>\n",
              "    </tr>\n",
              "  </thead>\n",
              "  <tbody>\n",
              "    <tr>\n",
              "      <th>0</th>\n",
              "      <td>5.1</td>\n",
              "      <td>3.5</td>\n",
              "      <td>1.4</td>\n",
              "      <td>0.2</td>\n",
              "    </tr>\n",
              "    <tr>\n",
              "      <th>1</th>\n",
              "      <td>4.9</td>\n",
              "      <td>3.0</td>\n",
              "      <td>1.4</td>\n",
              "      <td>0.2</td>\n",
              "    </tr>\n",
              "    <tr>\n",
              "      <th>2</th>\n",
              "      <td>4.7</td>\n",
              "      <td>3.2</td>\n",
              "      <td>1.3</td>\n",
              "      <td>0.2</td>\n",
              "    </tr>\n",
              "    <tr>\n",
              "      <th>3</th>\n",
              "      <td>4.6</td>\n",
              "      <td>3.1</td>\n",
              "      <td>1.5</td>\n",
              "      <td>0.2</td>\n",
              "    </tr>\n",
              "    <tr>\n",
              "      <th>4</th>\n",
              "      <td>5.0</td>\n",
              "      <td>3.6</td>\n",
              "      <td>1.4</td>\n",
              "      <td>0.2</td>\n",
              "    </tr>\n",
              "    <tr>\n",
              "      <th>5</th>\n",
              "      <td>5.4</td>\n",
              "      <td>3.9</td>\n",
              "      <td>1.7</td>\n",
              "      <td>0.4</td>\n",
              "    </tr>\n",
              "    <tr>\n",
              "      <th>6</th>\n",
              "      <td>4.6</td>\n",
              "      <td>3.4</td>\n",
              "      <td>1.4</td>\n",
              "      <td>0.3</td>\n",
              "    </tr>\n",
              "    <tr>\n",
              "      <th>7</th>\n",
              "      <td>5.0</td>\n",
              "      <td>3.4</td>\n",
              "      <td>1.5</td>\n",
              "      <td>0.2</td>\n",
              "    </tr>\n",
              "    <tr>\n",
              "      <th>8</th>\n",
              "      <td>4.4</td>\n",
              "      <td>2.9</td>\n",
              "      <td>1.4</td>\n",
              "      <td>0.2</td>\n",
              "    </tr>\n",
              "    <tr>\n",
              "      <th>9</th>\n",
              "      <td>4.9</td>\n",
              "      <td>3.1</td>\n",
              "      <td>1.5</td>\n",
              "      <td>0.1</td>\n",
              "    </tr>\n",
              "  </tbody>\n",
              "</table>\n",
              "</div>\n",
              "      <button class=\"colab-df-convert\" onclick=\"convertToInteractive('df-bce72ebd-a295-4fce-9788-007f4055d041')\"\n",
              "              title=\"Convert this dataframe to an interactive table.\"\n",
              "              style=\"display:none;\">\n",
              "        \n",
              "  <svg xmlns=\"http://www.w3.org/2000/svg\" height=\"24px\"viewBox=\"0 0 24 24\"\n",
              "       width=\"24px\">\n",
              "    <path d=\"M0 0h24v24H0V0z\" fill=\"none\"/>\n",
              "    <path d=\"M18.56 5.44l.94 2.06.94-2.06 2.06-.94-2.06-.94-.94-2.06-.94 2.06-2.06.94zm-11 1L8.5 8.5l.94-2.06 2.06-.94-2.06-.94L8.5 2.5l-.94 2.06-2.06.94zm10 10l.94 2.06.94-2.06 2.06-.94-2.06-.94-.94-2.06-.94 2.06-2.06.94z\"/><path d=\"M17.41 7.96l-1.37-1.37c-.4-.4-.92-.59-1.43-.59-.52 0-1.04.2-1.43.59L10.3 9.45l-7.72 7.72c-.78.78-.78 2.05 0 2.83L4 21.41c.39.39.9.59 1.41.59.51 0 1.02-.2 1.41-.59l7.78-7.78 2.81-2.81c.8-.78.8-2.07 0-2.86zM5.41 20L4 18.59l7.72-7.72 1.47 1.35L5.41 20z\"/>\n",
              "  </svg>\n",
              "      </button>\n",
              "      \n",
              "  <style>\n",
              "    .colab-df-container {\n",
              "      display:flex;\n",
              "      flex-wrap:wrap;\n",
              "      gap: 12px;\n",
              "    }\n",
              "\n",
              "    .colab-df-convert {\n",
              "      background-color: #E8F0FE;\n",
              "      border: none;\n",
              "      border-radius: 50%;\n",
              "      cursor: pointer;\n",
              "      display: none;\n",
              "      fill: #1967D2;\n",
              "      height: 32px;\n",
              "      padding: 0 0 0 0;\n",
              "      width: 32px;\n",
              "    }\n",
              "\n",
              "    .colab-df-convert:hover {\n",
              "      background-color: #E2EBFA;\n",
              "      box-shadow: 0px 1px 2px rgba(60, 64, 67, 0.3), 0px 1px 3px 1px rgba(60, 64, 67, 0.15);\n",
              "      fill: #174EA6;\n",
              "    }\n",
              "\n",
              "    [theme=dark] .colab-df-convert {\n",
              "      background-color: #3B4455;\n",
              "      fill: #D2E3FC;\n",
              "    }\n",
              "\n",
              "    [theme=dark] .colab-df-convert:hover {\n",
              "      background-color: #434B5C;\n",
              "      box-shadow: 0px 1px 3px 1px rgba(0, 0, 0, 0.15);\n",
              "      filter: drop-shadow(0px 1px 2px rgba(0, 0, 0, 0.3));\n",
              "      fill: #FFFFFF;\n",
              "    }\n",
              "  </style>\n",
              "\n",
              "      <script>\n",
              "        const buttonEl =\n",
              "          document.querySelector('#df-bce72ebd-a295-4fce-9788-007f4055d041 button.colab-df-convert');\n",
              "        buttonEl.style.display =\n",
              "          google.colab.kernel.accessAllowed ? 'block' : 'none';\n",
              "\n",
              "        async function convertToInteractive(key) {\n",
              "          const element = document.querySelector('#df-bce72ebd-a295-4fce-9788-007f4055d041');\n",
              "          const dataTable =\n",
              "            await google.colab.kernel.invokeFunction('convertToInteractive',\n",
              "                                                     [key], {});\n",
              "          if (!dataTable) return;\n",
              "\n",
              "          const docLinkHtml = 'Like what you see? Visit the ' +\n",
              "            '<a target=\"_blank\" href=https://colab.research.google.com/notebooks/data_table.ipynb>data table notebook</a>'\n",
              "            + ' to learn more about interactive tables.';\n",
              "          element.innerHTML = '';\n",
              "          dataTable['output_type'] = 'display_data';\n",
              "          await google.colab.output.renderOutput(dataTable, element);\n",
              "          const docLink = document.createElement('div');\n",
              "          docLink.innerHTML = docLinkHtml;\n",
              "          element.appendChild(docLink);\n",
              "        }\n",
              "      </script>\n",
              "    </div>\n",
              "  </div>\n",
              "  "
            ]
          },
          "metadata": {},
          "execution_count": 9
        }
      ]
    },
    {
      "cell_type": "code",
      "source": [
        "data.info()\n"
      ],
      "metadata": {
        "colab": {
          "base_uri": "https://localhost:8080/"
        },
        "id": "RkKdiS-ZkcyS",
        "outputId": "1daad12d-cb45-4cd8-9fe9-ada6f7dc584f"
      },
      "execution_count": null,
      "outputs": [
        {
          "output_type": "stream",
          "name": "stdout",
          "text": [
            "<class 'pandas.core.frame.DataFrame'>\n",
            "RangeIndex: 150 entries, 0 to 149\n",
            "Data columns (total 4 columns):\n",
            " #   Column             Non-Null Count  Dtype  \n",
            "---  ------             --------------  -----  \n",
            " 0   sepal length (cm)  150 non-null    float64\n",
            " 1   sepal width (cm)   150 non-null    float64\n",
            " 2   petal length (cm)  150 non-null    float64\n",
            " 3   petal width (cm)   150 non-null    float64\n",
            "dtypes: float64(4)\n",
            "memory usage: 4.8 KB\n"
          ]
        }
      ]
    },
    {
      "cell_type": "code",
      "source": [
        "data.describe()"
      ],
      "metadata": {
        "colab": {
          "base_uri": "https://localhost:8080/",
          "height": 300
        },
        "id": "oP6hzAv5kc1M",
        "outputId": "1dcae5e6-3996-44f9-f591-9440ffdd4182"
      },
      "execution_count": null,
      "outputs": [
        {
          "output_type": "execute_result",
          "data": {
            "text/plain": [
              "       sepal length (cm)  sepal width (cm)  petal length (cm)  \\\n",
              "count         150.000000        150.000000         150.000000   \n",
              "mean            5.843333          3.057333           3.758000   \n",
              "std             0.828066          0.435866           1.765298   \n",
              "min             4.300000          2.000000           1.000000   \n",
              "25%             5.100000          2.800000           1.600000   \n",
              "50%             5.800000          3.000000           4.350000   \n",
              "75%             6.400000          3.300000           5.100000   \n",
              "max             7.900000          4.400000           6.900000   \n",
              "\n",
              "       petal width (cm)  \n",
              "count        150.000000  \n",
              "mean           1.199333  \n",
              "std            0.762238  \n",
              "min            0.100000  \n",
              "25%            0.300000  \n",
              "50%            1.300000  \n",
              "75%            1.800000  \n",
              "max            2.500000  "
            ],
            "text/html": [
              "\n",
              "  <div id=\"df-b0de258c-75c3-42e9-aca4-44d74c1a29b6\">\n",
              "    <div class=\"colab-df-container\">\n",
              "      <div>\n",
              "<style scoped>\n",
              "    .dataframe tbody tr th:only-of-type {\n",
              "        vertical-align: middle;\n",
              "    }\n",
              "\n",
              "    .dataframe tbody tr th {\n",
              "        vertical-align: top;\n",
              "    }\n",
              "\n",
              "    .dataframe thead th {\n",
              "        text-align: right;\n",
              "    }\n",
              "</style>\n",
              "<table border=\"1\" class=\"dataframe\">\n",
              "  <thead>\n",
              "    <tr style=\"text-align: right;\">\n",
              "      <th></th>\n",
              "      <th>sepal length (cm)</th>\n",
              "      <th>sepal width (cm)</th>\n",
              "      <th>petal length (cm)</th>\n",
              "      <th>petal width (cm)</th>\n",
              "    </tr>\n",
              "  </thead>\n",
              "  <tbody>\n",
              "    <tr>\n",
              "      <th>count</th>\n",
              "      <td>150.000000</td>\n",
              "      <td>150.000000</td>\n",
              "      <td>150.000000</td>\n",
              "      <td>150.000000</td>\n",
              "    </tr>\n",
              "    <tr>\n",
              "      <th>mean</th>\n",
              "      <td>5.843333</td>\n",
              "      <td>3.057333</td>\n",
              "      <td>3.758000</td>\n",
              "      <td>1.199333</td>\n",
              "    </tr>\n",
              "    <tr>\n",
              "      <th>std</th>\n",
              "      <td>0.828066</td>\n",
              "      <td>0.435866</td>\n",
              "      <td>1.765298</td>\n",
              "      <td>0.762238</td>\n",
              "    </tr>\n",
              "    <tr>\n",
              "      <th>min</th>\n",
              "      <td>4.300000</td>\n",
              "      <td>2.000000</td>\n",
              "      <td>1.000000</td>\n",
              "      <td>0.100000</td>\n",
              "    </tr>\n",
              "    <tr>\n",
              "      <th>25%</th>\n",
              "      <td>5.100000</td>\n",
              "      <td>2.800000</td>\n",
              "      <td>1.600000</td>\n",
              "      <td>0.300000</td>\n",
              "    </tr>\n",
              "    <tr>\n",
              "      <th>50%</th>\n",
              "      <td>5.800000</td>\n",
              "      <td>3.000000</td>\n",
              "      <td>4.350000</td>\n",
              "      <td>1.300000</td>\n",
              "    </tr>\n",
              "    <tr>\n",
              "      <th>75%</th>\n",
              "      <td>6.400000</td>\n",
              "      <td>3.300000</td>\n",
              "      <td>5.100000</td>\n",
              "      <td>1.800000</td>\n",
              "    </tr>\n",
              "    <tr>\n",
              "      <th>max</th>\n",
              "      <td>7.900000</td>\n",
              "      <td>4.400000</td>\n",
              "      <td>6.900000</td>\n",
              "      <td>2.500000</td>\n",
              "    </tr>\n",
              "  </tbody>\n",
              "</table>\n",
              "</div>\n",
              "      <button class=\"colab-df-convert\" onclick=\"convertToInteractive('df-b0de258c-75c3-42e9-aca4-44d74c1a29b6')\"\n",
              "              title=\"Convert this dataframe to an interactive table.\"\n",
              "              style=\"display:none;\">\n",
              "        \n",
              "  <svg xmlns=\"http://www.w3.org/2000/svg\" height=\"24px\"viewBox=\"0 0 24 24\"\n",
              "       width=\"24px\">\n",
              "    <path d=\"M0 0h24v24H0V0z\" fill=\"none\"/>\n",
              "    <path d=\"M18.56 5.44l.94 2.06.94-2.06 2.06-.94-2.06-.94-.94-2.06-.94 2.06-2.06.94zm-11 1L8.5 8.5l.94-2.06 2.06-.94-2.06-.94L8.5 2.5l-.94 2.06-2.06.94zm10 10l.94 2.06.94-2.06 2.06-.94-2.06-.94-.94-2.06-.94 2.06-2.06.94z\"/><path d=\"M17.41 7.96l-1.37-1.37c-.4-.4-.92-.59-1.43-.59-.52 0-1.04.2-1.43.59L10.3 9.45l-7.72 7.72c-.78.78-.78 2.05 0 2.83L4 21.41c.39.39.9.59 1.41.59.51 0 1.02-.2 1.41-.59l7.78-7.78 2.81-2.81c.8-.78.8-2.07 0-2.86zM5.41 20L4 18.59l7.72-7.72 1.47 1.35L5.41 20z\"/>\n",
              "  </svg>\n",
              "      </button>\n",
              "      \n",
              "  <style>\n",
              "    .colab-df-container {\n",
              "      display:flex;\n",
              "      flex-wrap:wrap;\n",
              "      gap: 12px;\n",
              "    }\n",
              "\n",
              "    .colab-df-convert {\n",
              "      background-color: #E8F0FE;\n",
              "      border: none;\n",
              "      border-radius: 50%;\n",
              "      cursor: pointer;\n",
              "      display: none;\n",
              "      fill: #1967D2;\n",
              "      height: 32px;\n",
              "      padding: 0 0 0 0;\n",
              "      width: 32px;\n",
              "    }\n",
              "\n",
              "    .colab-df-convert:hover {\n",
              "      background-color: #E2EBFA;\n",
              "      box-shadow: 0px 1px 2px rgba(60, 64, 67, 0.3), 0px 1px 3px 1px rgba(60, 64, 67, 0.15);\n",
              "      fill: #174EA6;\n",
              "    }\n",
              "\n",
              "    [theme=dark] .colab-df-convert {\n",
              "      background-color: #3B4455;\n",
              "      fill: #D2E3FC;\n",
              "    }\n",
              "\n",
              "    [theme=dark] .colab-df-convert:hover {\n",
              "      background-color: #434B5C;\n",
              "      box-shadow: 0px 1px 3px 1px rgba(0, 0, 0, 0.15);\n",
              "      filter: drop-shadow(0px 1px 2px rgba(0, 0, 0, 0.3));\n",
              "      fill: #FFFFFF;\n",
              "    }\n",
              "  </style>\n",
              "\n",
              "      <script>\n",
              "        const buttonEl =\n",
              "          document.querySelector('#df-b0de258c-75c3-42e9-aca4-44d74c1a29b6 button.colab-df-convert');\n",
              "        buttonEl.style.display =\n",
              "          google.colab.kernel.accessAllowed ? 'block' : 'none';\n",
              "\n",
              "        async function convertToInteractive(key) {\n",
              "          const element = document.querySelector('#df-b0de258c-75c3-42e9-aca4-44d74c1a29b6');\n",
              "          const dataTable =\n",
              "            await google.colab.kernel.invokeFunction('convertToInteractive',\n",
              "                                                     [key], {});\n",
              "          if (!dataTable) return;\n",
              "\n",
              "          const docLinkHtml = 'Like what you see? Visit the ' +\n",
              "            '<a target=\"_blank\" href=https://colab.research.google.com/notebooks/data_table.ipynb>data table notebook</a>'\n",
              "            + ' to learn more about interactive tables.';\n",
              "          element.innerHTML = '';\n",
              "          dataTable['output_type'] = 'display_data';\n",
              "          await google.colab.output.renderOutput(dataTable, element);\n",
              "          const docLink = document.createElement('div');\n",
              "          docLink.innerHTML = docLinkHtml;\n",
              "          element.appendChild(docLink);\n",
              "        }\n",
              "      </script>\n",
              "    </div>\n",
              "  </div>\n",
              "  "
            ]
          },
          "metadata": {},
          "execution_count": 11
        }
      ]
    },
    {
      "cell_type": "code",
      "source": [
        "from sklearn.model_selection import train_test_split\n",
        "x_train,x_test,y_train,y_test=train_test_split(x,y,train_size=0.2)"
      ],
      "metadata": {
        "id": "hLsaaOdZkuxQ"
      },
      "execution_count": null,
      "outputs": []
    },
    {
      "cell_type": "code",
      "source": [
        "x_train.describe()\n"
      ],
      "metadata": {
        "colab": {
          "base_uri": "https://localhost:8080/",
          "height": 300
        },
        "id": "7E6p7PRQku3g",
        "outputId": "aa8836df-655c-41e3-9989-090844413f22"
      },
      "execution_count": null,
      "outputs": [
        {
          "output_type": "execute_result",
          "data": {
            "text/plain": [
              "       sepal length (cm)  sepal width (cm)  petal length (cm)  \\\n",
              "count          30.000000         30.000000          30.000000   \n",
              "mean            5.566667          3.060000           3.233333   \n",
              "std             0.651964          0.406499           1.670914   \n",
              "min             4.600000          2.200000           1.200000   \n",
              "25%             5.025000          2.800000           1.425000   \n",
              "50%             5.500000          3.000000           3.800000   \n",
              "75%             6.025000          3.375000           4.575000   \n",
              "max             7.000000          3.900000           6.000000   \n",
              "\n",
              "       petal width (cm)  \n",
              "count         30.000000  \n",
              "mean           1.006667  \n",
              "std            0.751520  \n",
              "min            0.100000  \n",
              "25%            0.200000  \n",
              "50%            1.200000  \n",
              "75%            1.500000  \n",
              "max            2.500000  "
            ],
            "text/html": [
              "\n",
              "  <div id=\"df-748e2784-9262-4bb8-ae3e-f2d84c4b280f\">\n",
              "    <div class=\"colab-df-container\">\n",
              "      <div>\n",
              "<style scoped>\n",
              "    .dataframe tbody tr th:only-of-type {\n",
              "        vertical-align: middle;\n",
              "    }\n",
              "\n",
              "    .dataframe tbody tr th {\n",
              "        vertical-align: top;\n",
              "    }\n",
              "\n",
              "    .dataframe thead th {\n",
              "        text-align: right;\n",
              "    }\n",
              "</style>\n",
              "<table border=\"1\" class=\"dataframe\">\n",
              "  <thead>\n",
              "    <tr style=\"text-align: right;\">\n",
              "      <th></th>\n",
              "      <th>sepal length (cm)</th>\n",
              "      <th>sepal width (cm)</th>\n",
              "      <th>petal length (cm)</th>\n",
              "      <th>petal width (cm)</th>\n",
              "    </tr>\n",
              "  </thead>\n",
              "  <tbody>\n",
              "    <tr>\n",
              "      <th>count</th>\n",
              "      <td>30.000000</td>\n",
              "      <td>30.000000</td>\n",
              "      <td>30.000000</td>\n",
              "      <td>30.000000</td>\n",
              "    </tr>\n",
              "    <tr>\n",
              "      <th>mean</th>\n",
              "      <td>5.566667</td>\n",
              "      <td>3.060000</td>\n",
              "      <td>3.233333</td>\n",
              "      <td>1.006667</td>\n",
              "    </tr>\n",
              "    <tr>\n",
              "      <th>std</th>\n",
              "      <td>0.651964</td>\n",
              "      <td>0.406499</td>\n",
              "      <td>1.670914</td>\n",
              "      <td>0.751520</td>\n",
              "    </tr>\n",
              "    <tr>\n",
              "      <th>min</th>\n",
              "      <td>4.600000</td>\n",
              "      <td>2.200000</td>\n",
              "      <td>1.200000</td>\n",
              "      <td>0.100000</td>\n",
              "    </tr>\n",
              "    <tr>\n",
              "      <th>25%</th>\n",
              "      <td>5.025000</td>\n",
              "      <td>2.800000</td>\n",
              "      <td>1.425000</td>\n",
              "      <td>0.200000</td>\n",
              "    </tr>\n",
              "    <tr>\n",
              "      <th>50%</th>\n",
              "      <td>5.500000</td>\n",
              "      <td>3.000000</td>\n",
              "      <td>3.800000</td>\n",
              "      <td>1.200000</td>\n",
              "    </tr>\n",
              "    <tr>\n",
              "      <th>75%</th>\n",
              "      <td>6.025000</td>\n",
              "      <td>3.375000</td>\n",
              "      <td>4.575000</td>\n",
              "      <td>1.500000</td>\n",
              "    </tr>\n",
              "    <tr>\n",
              "      <th>max</th>\n",
              "      <td>7.000000</td>\n",
              "      <td>3.900000</td>\n",
              "      <td>6.000000</td>\n",
              "      <td>2.500000</td>\n",
              "    </tr>\n",
              "  </tbody>\n",
              "</table>\n",
              "</div>\n",
              "      <button class=\"colab-df-convert\" onclick=\"convertToInteractive('df-748e2784-9262-4bb8-ae3e-f2d84c4b280f')\"\n",
              "              title=\"Convert this dataframe to an interactive table.\"\n",
              "              style=\"display:none;\">\n",
              "        \n",
              "  <svg xmlns=\"http://www.w3.org/2000/svg\" height=\"24px\"viewBox=\"0 0 24 24\"\n",
              "       width=\"24px\">\n",
              "    <path d=\"M0 0h24v24H0V0z\" fill=\"none\"/>\n",
              "    <path d=\"M18.56 5.44l.94 2.06.94-2.06 2.06-.94-2.06-.94-.94-2.06-.94 2.06-2.06.94zm-11 1L8.5 8.5l.94-2.06 2.06-.94-2.06-.94L8.5 2.5l-.94 2.06-2.06.94zm10 10l.94 2.06.94-2.06 2.06-.94-2.06-.94-.94-2.06-.94 2.06-2.06.94z\"/><path d=\"M17.41 7.96l-1.37-1.37c-.4-.4-.92-.59-1.43-.59-.52 0-1.04.2-1.43.59L10.3 9.45l-7.72 7.72c-.78.78-.78 2.05 0 2.83L4 21.41c.39.39.9.59 1.41.59.51 0 1.02-.2 1.41-.59l7.78-7.78 2.81-2.81c.8-.78.8-2.07 0-2.86zM5.41 20L4 18.59l7.72-7.72 1.47 1.35L5.41 20z\"/>\n",
              "  </svg>\n",
              "      </button>\n",
              "      \n",
              "  <style>\n",
              "    .colab-df-container {\n",
              "      display:flex;\n",
              "      flex-wrap:wrap;\n",
              "      gap: 12px;\n",
              "    }\n",
              "\n",
              "    .colab-df-convert {\n",
              "      background-color: #E8F0FE;\n",
              "      border: none;\n",
              "      border-radius: 50%;\n",
              "      cursor: pointer;\n",
              "      display: none;\n",
              "      fill: #1967D2;\n",
              "      height: 32px;\n",
              "      padding: 0 0 0 0;\n",
              "      width: 32px;\n",
              "    }\n",
              "\n",
              "    .colab-df-convert:hover {\n",
              "      background-color: #E2EBFA;\n",
              "      box-shadow: 0px 1px 2px rgba(60, 64, 67, 0.3), 0px 1px 3px 1px rgba(60, 64, 67, 0.15);\n",
              "      fill: #174EA6;\n",
              "    }\n",
              "\n",
              "    [theme=dark] .colab-df-convert {\n",
              "      background-color: #3B4455;\n",
              "      fill: #D2E3FC;\n",
              "    }\n",
              "\n",
              "    [theme=dark] .colab-df-convert:hover {\n",
              "      background-color: #434B5C;\n",
              "      box-shadow: 0px 1px 3px 1px rgba(0, 0, 0, 0.15);\n",
              "      filter: drop-shadow(0px 1px 2px rgba(0, 0, 0, 0.3));\n",
              "      fill: #FFFFFF;\n",
              "    }\n",
              "  </style>\n",
              "\n",
              "      <script>\n",
              "        const buttonEl =\n",
              "          document.querySelector('#df-748e2784-9262-4bb8-ae3e-f2d84c4b280f button.colab-df-convert');\n",
              "        buttonEl.style.display =\n",
              "          google.colab.kernel.accessAllowed ? 'block' : 'none';\n",
              "\n",
              "        async function convertToInteractive(key) {\n",
              "          const element = document.querySelector('#df-748e2784-9262-4bb8-ae3e-f2d84c4b280f');\n",
              "          const dataTable =\n",
              "            await google.colab.kernel.invokeFunction('convertToInteractive',\n",
              "                                                     [key], {});\n",
              "          if (!dataTable) return;\n",
              "\n",
              "          const docLinkHtml = 'Like what you see? Visit the ' +\n",
              "            '<a target=\"_blank\" href=https://colab.research.google.com/notebooks/data_table.ipynb>data table notebook</a>'\n",
              "            + ' to learn more about interactive tables.';\n",
              "          element.innerHTML = '';\n",
              "          dataTable['output_type'] = 'display_data';\n",
              "          await google.colab.output.renderOutput(dataTable, element);\n",
              "          const docLink = document.createElement('div');\n",
              "          docLink.innerHTML = docLinkHtml;\n",
              "          element.appendChild(docLink);\n",
              "        }\n",
              "      </script>\n",
              "    </div>\n",
              "  </div>\n",
              "  "
            ]
          },
          "metadata": {},
          "execution_count": 13
        }
      ]
    },
    {
      "cell_type": "markdown",
      "source": [
        "#SVM"
      ],
      "metadata": {
        "id": "Qjd4--a3k4FI"
      }
    },
    {
      "cell_type": "code",
      "source": [
        "from sklearn import svm\n",
        "support=svm.SVC(random_state=43)\n",
        "sd=time.time()\n",
        "support.fit(x_train,y_train)\n",
        "ed=time.time()\n",
        "computational_time_svm=ed-sd"
      ],
      "metadata": {
        "id": "HCBQt5Uqku6n"
      },
      "execution_count": null,
      "outputs": []
    },
    {
      "cell_type": "code",
      "source": [
        "y_svm=support.predict(x_test)"
      ],
      "metadata": {
        "id": "N1IdDFf4ku9f"
      },
      "execution_count": null,
      "outputs": []
    },
    {
      "cell_type": "code",
      "source": [
        "from sklearn.model_selection import GridSearchCV"
      ],
      "metadata": {
        "id": "nBKRSJ1flAH7"
      },
      "execution_count": null,
      "outputs": []
    },
    {
      "cell_type": "code",
      "source": [
        "param_grid = {'C': [1, 3, 5,7],\n",
        "              'gamma': [0.1, 0.01, 0.001],\n",
        "              'kernel': ['linear', 'rbf']}"
      ],
      "metadata": {
        "id": "CNbq9ylHlALa"
      },
      "execution_count": null,
      "outputs": []
    },
    {
      "cell_type": "code",
      "source": [
        "svm_model = svm.SVC()"
      ],
      "metadata": {
        "id": "iK6L0QCFlAO4"
      },
      "execution_count": null,
      "outputs": []
    },
    {
      "cell_type": "code",
      "source": [
        "grid_search = GridSearchCV(estimator=svm_model, param_grid=param_grid, cv=3)"
      ],
      "metadata": {
        "id": "UfhdQ6BFlARS"
      },
      "execution_count": null,
      "outputs": []
    },
    {
      "cell_type": "code",
      "source": [
        "sg=time.time()\n",
        "grid_search.fit(x_train,y_train)\n",
        "eg=time.time()\n",
        "computation_time_svm_grid=eg-sg"
      ],
      "metadata": {
        "id": "yiBXXsTdlAUK"
      },
      "execution_count": null,
      "outputs": []
    },
    {
      "cell_type": "code",
      "source": [
        "svm_grid_para = grid_search.best_params_\n",
        "print(svm_grid_para)"
      ],
      "metadata": {
        "colab": {
          "base_uri": "https://localhost:8080/"
        },
        "id": "pkfs8z2-lAXS",
        "outputId": "c20989bf-8009-4124-aee2-9fc7cc5ce691"
      },
      "execution_count": null,
      "outputs": [
        {
          "output_type": "stream",
          "name": "stdout",
          "text": [
            "{'C': 3, 'gamma': 0.1, 'kernel': 'rbf'}\n"
          ]
        }
      ]
    },
    {
      "cell_type": "code",
      "source": [
        "best_model_svm_grid = grid_search.best_estimator_"
      ],
      "metadata": {
        "id": "wBf_zF4TlKov"
      },
      "execution_count": null,
      "outputs": []
    },
    {
      "cell_type": "code",
      "source": [
        "from sklearn.model_selection import RandomizedSearchCV"
      ],
      "metadata": {
        "id": "SLiNpGwNlKry"
      },
      "execution_count": null,
      "outputs": []
    },
    {
      "cell_type": "code",
      "source": [
        "param_distributions = {'C': np.logspace(-1, 4, 10),\n",
        "                       'gamma': np.logspace(-4, 4, 10),\n",
        "                       'kernel': ['linear', 'rbf']}"
      ],
      "metadata": {
        "id": "Z24cYyoGlKu5"
      },
      "execution_count": null,
      "outputs": []
    },
    {
      "cell_type": "code",
      "source": [
        "random_search = RandomizedSearchCV(estimator=svm_model, param_distributions=param_distributions, n_iter=10, cv=3)"
      ],
      "metadata": {
        "id": "Qy6HdPTLlK0o"
      },
      "execution_count": null,
      "outputs": []
    },
    {
      "cell_type": "code",
      "source": [
        "sr=time.time()\n",
        "random_search.fit(x_train,y_train)\n",
        "er=time.time()\n",
        "computational_time_svm_random=er-sr"
      ],
      "metadata": {
        "id": "clrF8j8BlK4X"
      },
      "execution_count": null,
      "outputs": []
    },
    {
      "cell_type": "code",
      "source": [
        "svm_random_para = random_search.best_params_\n",
        "print(svm_random_para)"
      ],
      "metadata": {
        "colab": {
          "base_uri": "https://localhost:8080/"
        },
        "id": "0EK86gTDlK7L",
        "outputId": "cb339960-d116-4deb-b525-0b1d7d4fbf39"
      },
      "execution_count": null,
      "outputs": [
        {
          "output_type": "stream",
          "name": "stdout",
          "text": [
            "{'kernel': 'linear', 'gamma': 0.000774263682681127, 'C': 16.68100537200059}\n"
          ]
        }
      ]
    },
    {
      "cell_type": "code",
      "source": [
        "best_model_svm_random = random_search.best_estimator_"
      ],
      "metadata": {
        "id": "ZHI8rvLQlK9m"
      },
      "execution_count": null,
      "outputs": []
    },
    {
      "cell_type": "code",
      "source": [
        "svm_grid_prid=best_model_svm_grid.predict(x_test)"
      ],
      "metadata": {
        "id": "mhZyndt_laho"
      },
      "execution_count": null,
      "outputs": []
    },
    {
      "cell_type": "code",
      "source": [
        "svm_random_prid=best_model_svm_random.predict(x_test)"
      ],
      "metadata": {
        "id": "rV_4yZ6Ylaku"
      },
      "execution_count": null,
      "outputs": []
    },
    {
      "cell_type": "code",
      "source": [
        "from sklearn.metrics import accuracy_score,mean_squared_error"
      ],
      "metadata": {
        "id": "mI6dnWcDlaoI"
      },
      "execution_count": null,
      "outputs": []
    },
    {
      "cell_type": "code",
      "source": [
        "svm_acc=accuracy_score(y_test, y_svm)\n",
        "svm_mse=mean_squared_error(y_test,y_svm)"
      ],
      "metadata": {
        "id": "YA3fQhPFlarQ"
      },
      "execution_count": null,
      "outputs": []
    },
    {
      "cell_type": "code",
      "source": [
        "svm_grid_acc=accuracy_score(y_test,svm_grid_prid)\n",
        "svm_grid_mse=mean_squared_error(y_test,svm_grid_prid)"
      ],
      "metadata": {
        "id": "E-zhJmOYlAeT"
      },
      "execution_count": null,
      "outputs": []
    },
    {
      "cell_type": "code",
      "source": [
        "svm_random_acc=accuracy_score(y_test,svm_random_prid)\n",
        "svm_random_mse=mean_squared_error(y_test,svm_random_prid)"
      ],
      "metadata": {
        "id": "KUFJCqBOlkJo"
      },
      "execution_count": null,
      "outputs": []
    },
    {
      "cell_type": "code",
      "source": [
        "svm_x=[\"svm\",\"grid\",\"random\"]\n",
        "svm_acc_plt=[svm_acc,svm_grid_acc,svm_random_acc]\n",
        "svm_mse_plt=[svm_mse,svm_grid_mse,svm_random_mse]\n",
        "svm_ct_plt=[computational_time_svm,computation_time_svm_grid,computational_time_svm_random]"
      ],
      "metadata": {
        "id": "2M4jEdnilkMP"
      },
      "execution_count": null,
      "outputs": []
    },
    {
      "cell_type": "code",
      "source": [
        "\n",
        "plt.subplot(1,3,1)\n",
        "plt.ylabel(\"Accuracy Score\")\n",
        "plt.bar(svm_x,svm_acc_plt)\n",
        "\n",
        "\n",
        "plt.subplot(1,3,2)\n",
        "plt.ylabel(\"Mean Squared Error\")\n",
        "plt.bar(svm_x,svm_mse_plt)\n",
        "\n",
        "\n",
        "plt.subplot(1,3,3)\n",
        "plt.ylabel(\"Computational Time\")\n",
        "plt.bar(svm_x,svm_ct_plt)\n",
        "plt.subplots_adjust(left=0.1,\n",
        "                    bottom=0.1,\n",
        "                    right=0.9,\n",
        "                    top=0.9,\n",
        "                    wspace=.5,\n",
        "                    hspace=0.2)\n",
        "plt.show()"
      ],
      "metadata": {
        "colab": {
          "base_uri": "https://localhost:8080/"
        },
        "id": "orrYz1rClkRP",
        "outputId": "7e0d078a-0386-46cd-da66-62cc8e7f0212"
      },
      "execution_count": null,
      "outputs": [
        {
          "output_type": "display_data",
          "data": {
            "text/plain": [
              "<Figure size 640x480 with 3 Axes>"
            ],
            "image/png": "[encoded data removed]"
          },
          "metadata": {}
        }
      ]
    },
    {
      "cell_type": "code",
      "source": [
        "def svm_grid (lst,x_train,x_test,y_train,y_test) :\n",
        "  best_para={'c':lst['c'][1],'gamma':lst['gamma'][1],'kernel':lst['kernel'][0]}\n",
        "  svm_model = svm.SVC(C=best_para['c'],gamma=best_para['gamma'],kernel=best_para['kernel'])\n",
        "\n",
        "  svm_model.fit(x_train,y_train)\n",
        "  y_svm=svm_model.predict(x_test)\n",
        "  svm_acc=accuracy_score(y_test, y_svm)\n",
        "  print(best_para)\n",
        "  print('accuracy',svm_acc)\n",
        "  list=[]\n",
        "  listc=[]\n",
        "  listg=[]\n",
        "  svm_table = PrettyTable(['Name','c','gamma','kernal','accuracy'])\n",
        "  for c in lst['c']:\n",
        "    for gamma in lst['gamma'] :\n",
        "      for kernel in lst['kernel']:\n",
        "\n",
        "\n",
        "        svm_t = svm.SVC(C=c,gamma=gamma,kernel=kernel)\n",
        "        svm_t.fit(x_train,y_train)\n",
        "        y_t=svm_t.predict(x_test)\n",
        "        t_acc=accuracy_score(y_test, y_t)\n",
        "        list.append(t_acc)\n",
        "        listc.append(c)\n",
        "        listg.append(gamma)\n",
        "\n",
        "\n",
        "        svm_table.add_row(['grid search',c,gamma,kernel,t_acc])\n",
        "\n",
        "\n",
        "\n",
        "        if (t_acc>svm_acc) :\n",
        "          svm_acc=t_acc\n",
        "          best_para={'c':c,'gamma':gamma,'kernel':kernel}\n",
        "  print(svm_table)\n",
        "\n",
        "\n",
        "\n",
        "\n",
        "\n",
        "  return best_para,svm_acc,list,listc,listg"
      ],
      "metadata": {
        "id": "epeSLXcSlkWo"
      },
      "execution_count": null,
      "outputs": []
    },
    {
      "cell_type": "code",
      "source": [
        "from prettytable import PrettyTable\n",
        "param_grid = {'c': [1, 3, 5,7],\n",
        "              'gamma': [0.1, 0.01, 0.001],\n",
        "              'kernel': ['linear', 'rbf']}\n",
        "sr=time.time()\n",
        "svm_grid_para1,svm_grid_acc1,svm_list,svm_listc,svm_listg=svm_grid (param_grid,x_train,x_test,y_train,y_test)\n",
        "er=time.time()\n",
        "computational_time_svm_qgrid=er-sr\n",
        "print(computational_time_svm_qgrid)"
      ],
      "metadata": {
        "colab": {
          "base_uri": "https://localhost:8080/"
        },
        "id": "4KK1KZZCls0g",
        "outputId": "c6e0096e-a280-439b-8342-626e6c7e5416"
      },
      "execution_count": null,
      "outputs": [
        {
          "output_type": "stream",
          "name": "stdout",
          "text": [
            "{'c': 3, 'gamma': 0.01, 'kernel': 'linear'}\n",
            "accuracy 0.9666666666666667\n",
            "+-------------+---+-------+--------+---------------------+\n",
            "|     Name    | c | gamma | kernal |       accuracy      |\n",
            "+-------------+---+-------+--------+---------------------+\n",
            "| grid search | 1 |  0.1  | linear |        0.975        |\n",
            "| grid search | 1 |  0.1  |  rbf   |         0.95        |\n",
            "| grid search | 1 |  0.01 | linear |        0.975        |\n",
            "| grid search | 1 |  0.01 |  rbf   |  0.6333333333333333 |\n",
            "| grid search | 1 | 0.001 | linear |        0.975        |\n",
            "| grid search | 1 | 0.001 |  rbf   | 0.30833333333333335 |\n",
            "| grid search | 3 |  0.1  | linear |  0.9666666666666667 |\n",
            "| grid search | 3 |  0.1  |  rbf   |  0.9833333333333333 |\n",
            "| grid search | 3 |  0.01 | linear |  0.9666666666666667 |\n",
            "| grid search | 3 |  0.01 |  rbf   |  0.6416666666666667 |\n",
            "| grid search | 3 | 0.001 | linear |  0.9666666666666667 |\n",
            "| grid search | 3 | 0.001 |  rbf   | 0.30833333333333335 |\n",
            "| grid search | 5 |  0.1  | linear |  0.9666666666666667 |\n",
            "| grid search | 5 |  0.1  |  rbf   |  0.9833333333333333 |\n",
            "| grid search | 5 |  0.01 | linear |  0.9666666666666667 |\n",
            "| grid search | 5 |  0.01 |  rbf   |         0.85        |\n",
            "| grid search | 5 | 0.001 | linear |  0.9666666666666667 |\n",
            "| grid search | 5 | 0.001 |  rbf   |         0.5         |\n",
            "| grid search | 7 |  0.1  | linear |  0.9666666666666667 |\n",
            "| grid search | 7 |  0.1  |  rbf   |  0.9666666666666667 |\n",
            "| grid search | 7 |  0.01 | linear |  0.9666666666666667 |\n",
            "| grid search | 7 |  0.01 |  rbf   |         0.95        |\n",
            "| grid search | 7 | 0.001 | linear |  0.9666666666666667 |\n",
            "| grid search | 7 | 0.001 |  rbf   |  0.6166666666666667 |\n",
            "+-------------+---+-------+--------+---------------------+\n",
            "0.10871195793151855\n"
          ]
        }
      ]
    },
    {
      "cell_type": "code",
      "source": [
        "figure = plt.figure(figsize =(10, 10))\n",
        "ax = figure.add_subplot(111)\n",
        "ax.set_xticklabels(['accuracy'])\n",
        "ax.set_title(\"svm grid  search accuracy\")\n",
        "ax.boxplot([svm_list])\n"
      ],
      "metadata": {
        "colab": {
          "base_uri": "https://localhost:8080/"
        },
        "id": "nDZVPGPels3K",
        "outputId": "ae7ecd52-eda4-4a96-b113-49e4e9eae1d1"
      },
      "execution_count": null,
      "outputs": [
        {
          "output_type": "execute_result",
          "data": {
            "text/plain": [
              "{'whiskers': [<matplotlib.lines.Line2D at 0x7fbebfe9f280>,\n",
              "  <matplotlib.lines.Line2D at 0x7fbebfe9f520>],\n",
              " 'caps': [<matplotlib.lines.Line2D at 0x7fbebfe9f7c0>,\n",
              "  <matplotlib.lines.Line2D at 0x7fbebfe9fa60>],\n",
              " 'boxes': [<matplotlib.lines.Line2D at 0x7fbebfe97fa0>],\n",
              " 'medians': [<matplotlib.lines.Line2D at 0x7fbebfe9fd00>],\n",
              " 'fliers': [<matplotlib.lines.Line2D at 0x7fbebfe9ffa0>],\n",
              " 'means': []}"
            ]
          },
          "metadata": {},
          "execution_count": 39
        },
        {
          "output_type": "display_data",
          "data": {
            "text/plain": [
              "<Figure size 1000x1000 with 1 Axes>"
            ],
            "image/png": "[encoded data removed]"
          },
          "metadata": {}
        }
      ]
    },
    {
      "cell_type": "code",
      "source": [
        "figure = plt.figure(figsize =(10, 10))\n",
        "ax = figure.add_subplot(111)\n",
        "ax.set_xticklabels(['c'])\n",
        "ax.set_title(\"svm grid  search c value\")\n",
        "ax.boxplot([svm_listc])"
      ],
      "metadata": {
        "colab": {
          "base_uri": "https://localhost:8080/"
        },
        "id": "17t2uwvMls6n",
        "outputId": "95e2e60c-68e3-435c-af62-ef39ad23f4e7"
      },
      "execution_count": null,
      "outputs": [
        {
          "output_type": "execute_result",
          "data": {
            "text/plain": [
              "{'whiskers': [<matplotlib.lines.Line2D at 0x7fbebfde88e0>,\n",
              "  <matplotlib.lines.Line2D at 0x7fbebfde8b80>],\n",
              " 'caps': [<matplotlib.lines.Line2D at 0x7fbebfde8e20>,\n",
              "  <matplotlib.lines.Line2D at 0x7fbebfdf3100>],\n",
              " 'boxes': [<matplotlib.lines.Line2D at 0x7fbebfde8640>],\n",
              " 'medians': [<matplotlib.lines.Line2D at 0x7fbebfdf33a0>],\n",
              " 'fliers': [<matplotlib.lines.Line2D at 0x7fbebfdf3640>],\n",
              " 'means': []}"
            ]
          },
          "metadata": {},
          "execution_count": 40
        },
        {
          "output_type": "display_data",
          "data": {
            "text/plain": [
              "<Figure size 1000x1000 with 1 Axes>"
            ],
            "image/png": "[encoded data removed]"
          },
          "metadata": {}
        }
      ]
    },
    {
      "cell_type": "code",
      "source": [
        "figure = plt.figure(figsize =(10, 11))\n",
        "ax = figure.add_subplot(111)\n",
        "ax.set_xticklabels(['gamma'])\n",
        "ax.set_title(\"svm grid  search gamma \")\n",
        "ax.boxplot([svm_listg])"
      ],
      "metadata": {
        "colab": {
          "base_uri": "https://localhost:8080/",
          "height": 1000
        },
        "id": "cDgbBogTls97",
        "outputId": "8fa98e57-6e21-41f4-d4aa-2ed9ec8b74bf"
      },
      "execution_count": null,
      "outputs": [
        {
          "output_type": "execute_result",
          "data": {
            "text/plain": [
              "{'whiskers': [<matplotlib.lines.Line2D at 0x7fbebfd6c1c0>,\n",
              "  <matplotlib.lines.Line2D at 0x7fbebfd6c460>],\n",
              " 'caps': [<matplotlib.lines.Line2D at 0x7fbebfd6c700>,\n",
              "  <matplotlib.lines.Line2D at 0x7fbebfd6c9a0>],\n",
              " 'boxes': [<matplotlib.lines.Line2D at 0x7fbebfd63ee0>],\n",
              " 'medians': [<matplotlib.lines.Line2D at 0x7fbebfd6cc40>],\n",
              " 'fliers': [<matplotlib.lines.Line2D at 0x7fbebfd6cee0>],\n",
              " 'means': []}"
            ]
          },
          "metadata": {},
          "execution_count": 41
        },
        {
          "output_type": "display_data",
          "data": {
            "text/plain": [
              "<Figure size 1000x1100 with 1 Axes>"
            ],
            "image/png": "[encoded data removed]"
          },
          "metadata": {}
        }
      ]
    },
    {
      "cell_type": "code",
      "source": [
        "def svm_random (lst,x_train,x_test,y_train,y_test,maxitr) :\n",
        "  best_para={'c':lst['c'][1],'gamma':lst['gamma'][1],'kernel':lst['kernel'][0]}\n",
        "  svm_model = svm.SVC(C=best_para['c'],gamma=best_para['gamma'],kernel=best_para['kernel'])\n",
        "\n",
        "  svm_model.fit(x_train,y_train)\n",
        "  y_svm=svm_model.predict(x_test)\n",
        "  svm_acc=accuracy_score(y_test, y_svm)\n",
        "  svm_table = PrettyTable(['Name','c','gamma','kernal','accuracy'])\n",
        "  list=[]\n",
        "  listc=[]\n",
        "  listg=[]\n",
        "  for _ in range(0,maxitr) :\n",
        "    c=random.choice(lst['c'])\n",
        "    gamma=random.choice(lst['gamma'])\n",
        "    kernel=random.choice(lst['kernel'])\n",
        "    svm_t = svm.SVC(C=c,gamma=gamma,kernel=kernel)\n",
        "    svm_t.fit(x_train,y_train)\n",
        "    y_t=svm_t.predict(x_test)\n",
        "    t_acc=accuracy_score(y_test, y_t)\n",
        "    list.append(t_acc)\n",
        "    listc.append(c)\n",
        "    listg.append(gamma)\n",
        "\n",
        "    svm_table.add_row(['random search',c,gamma,kernel,t_acc])\n",
        "    if (t_acc>svm_acc) :\n",
        "      svm_acc=t_acc\n",
        "      best_para={'c':c,'gamma':gamma,'kernel':kernel}\n",
        "  print(svm_table)\n",
        "  return best_para,svm_acc,list,listc,listg"
      ],
      "metadata": {
        "id": "4U9stqjzltAH"
      },
      "execution_count": null,
      "outputs": []
    },
    {
      "cell_type": "code",
      "source": [
        "sr=time.time()\n",
        "svm_random_para1,svm_random_acc1,svm_random_list,svm_random_listc,svm_random_listg=svm_random (param_grid,x_train,x_test,y_train,y_test,30)\n",
        "er=time.time()\n",
        "computational_time_svm_qrandom=er-sr\n",
        "print(computational_time_svm_qrandom)"
      ],
      "metadata": {
        "colab": {
          "base_uri": "https://localhost:8080/"
        },
        "id": "gtLCbNvLo6Zw",
        "outputId": "b3324ca2-38d0-47a6-a003-8c5351ceabfa"
      },
      "execution_count": null,
      "outputs": [
        {
          "output_type": "stream",
          "name": "stdout",
          "text": [
            "+---------------+---+-------+--------+---------------------+\n",
            "|      Name     | c | gamma | kernal |       accuracy      |\n",
            "+---------------+---+-------+--------+---------------------+\n",
            "| random search | 5 |  0.1  | linear |  0.9666666666666667 |\n",
            "| random search | 5 |  0.1  | linear |  0.9666666666666667 |\n",
            "| random search | 3 |  0.1  |  rbf   |  0.9833333333333333 |\n",
            "| random search | 3 |  0.1  | linear |  0.9666666666666667 |\n",
            "| random search | 5 | 0.001 | linear |  0.9666666666666667 |\n",
            "| random search | 3 | 0.001 |  rbf   | 0.30833333333333335 |\n",
            "| random search | 5 | 0.001 | linear |  0.9666666666666667 |\n",
            "| random search | 7 | 0.001 | linear |  0.9666666666666667 |\n",
            "| random search | 7 |  0.1  | linear |  0.9666666666666667 |\n",
            "| random search | 7 |  0.01 | linear |  0.9666666666666667 |\n",
            "| random search | 1 |  0.1  | linear |        0.975        |\n",
            "| random search | 7 |  0.01 |  rbf   |         0.95        |\n",
            "| random search | 1 |  0.01 |  rbf   |  0.6333333333333333 |\n",
            "| random search | 7 | 0.001 |  rbf   |  0.6166666666666667 |\n",
            "| random search | 5 |  0.1  |  rbf   |  0.9833333333333333 |\n",
            "| random search | 1 |  0.01 |  rbf   |  0.6333333333333333 |\n",
            "| random search | 3 |  0.01 |  rbf   |  0.6416666666666667 |\n",
            "| random search | 7 |  0.1  | linear |  0.9666666666666667 |\n",
            "| random search | 7 | 0.001 | linear |  0.9666666666666667 |\n",
            "| random search | 7 | 0.001 |  rbf   |  0.6166666666666667 |\n",
            "| random search | 3 |  0.1  | linear |  0.9666666666666667 |\n",
            "| random search | 1 |  0.01 |  rbf   |  0.6333333333333333 |\n",
            "| random search | 5 |  0.01 |  rbf   |         0.85        |\n",
            "| random search | 5 |  0.1  |  rbf   |  0.9833333333333333 |\n",
            "| random search | 1 |  0.01 | linear |        0.975        |\n",
            "| random search | 7 | 0.001 |  rbf   |  0.6166666666666667 |\n",
            "| random search | 3 | 0.001 | linear |  0.9666666666666667 |\n",
            "| random search | 3 |  0.01 | linear |  0.9666666666666667 |\n",
            "| random search | 5 |  0.01 |  rbf   |         0.85        |\n",
            "| random search | 7 | 0.001 |  rbf   |  0.6166666666666667 |\n",
            "+---------------+---+-------+--------+---------------------+\n",
            "0.12851428985595703\n"
          ]
        }
      ]
    },
    {
      "cell_type": "code",
      "source": [
        "figure = plt.figure(figsize =(10, 10))\n",
        "ax = figure.add_subplot(111)\n",
        "ax.set_xticklabels(['accuracy'])\n",
        "ax.set_title(\"svm random search accuracy\")\n",
        "ax.boxplot([svm_random_list])\n"
      ],
      "metadata": {
        "colab": {
          "base_uri": "https://localhost:8080/"
        },
        "id": "Mgy9Nvn1ltF3",
        "outputId": "fc85b6cd-fc1e-485a-a3ef-fcc01f987d2c"
      },
      "execution_count": null,
      "outputs": [
        {
          "output_type": "execute_result",
          "data": {
            "text/plain": [
              "{'whiskers': [<matplotlib.lines.Line2D at 0x7fbebfcf46a0>,\n",
              "  <matplotlib.lines.Line2D at 0x7fbebfcf4940>],\n",
              " 'caps': [<matplotlib.lines.Line2D at 0x7fbebfcf4be0>,\n",
              "  <matplotlib.lines.Line2D at 0x7fbebfcf4e80>],\n",
              " 'boxes': [<matplotlib.lines.Line2D at 0x7fbebfcf4400>],\n",
              " 'medians': [<matplotlib.lines.Line2D at 0x7fbebfd00160>],\n",
              " 'fliers': [<matplotlib.lines.Line2D at 0x7fbebfd00400>],\n",
              " 'means': []}"
            ]
          },
          "metadata": {},
          "execution_count": 44
        },
        {
          "output_type": "display_data",
          "data": {
            "text/plain": [
              "<Figure size 1000x1000 with 1 Axes>"
            ],
            "image/png": "[encoded data removed]"
          },
          "metadata": {}
        }
      ]
    },
    {
      "cell_type": "code",
      "source": [
        "figure = plt.figure(figsize =(10, 10))\n",
        "ax = figure.add_subplot(111)\n",
        "ax.set_xticklabels(['c'])\n",
        "ax.set_title(\"svm random search c value\")\n",
        "ax.boxplot([svm_random_listc])"
      ],
      "metadata": {
        "colab": {
          "base_uri": "https://localhost:8080/"
        },
        "id": "ri9lTivultI3",
        "outputId": "8448d5fa-fc46-470d-f0c0-ccbe231318ae"
      },
      "execution_count": null,
      "outputs": [
        {
          "output_type": "execute_result",
          "data": {
            "text/plain": [
              "{'whiskers': [<matplotlib.lines.Line2D at 0x7fbebfc73a00>,\n",
              "  <matplotlib.lines.Line2D at 0x7fbebfc73ca0>],\n",
              " 'caps': [<matplotlib.lines.Line2D at 0x7fbebfc73f40>,\n",
              "  <matplotlib.lines.Line2D at 0x7fbebfc7d220>],\n",
              " 'boxes': [<matplotlib.lines.Line2D at 0x7fbebfc73700>],\n",
              " 'medians': [<matplotlib.lines.Line2D at 0x7fbebfc7d4c0>],\n",
              " 'fliers': [<matplotlib.lines.Line2D at 0x7fbebfc7d760>],\n",
              " 'means': []}"
            ]
          },
          "metadata": {},
          "execution_count": 45
        },
        {
          "output_type": "display_data",
          "data": {
            "text/plain": [
              "<Figure size 1000x1000 with 1 Axes>"
            ],
            "image/png": "[encoded data removed]"
          },
          "metadata": {}
        }
      ]
    },
    {
      "cell_type": "code",
      "source": [
        "figure = plt.figure(figsize =(10, 10))\n",
        "ax = figure.add_subplot(111)\n",
        "ax.set_xticklabels(['gamma'])\n",
        "ax.set_title(\"svm random search gamma value\")\n",
        "ax.boxplot([svm_random_listg])"
      ],
      "metadata": {
        "colab": {
          "base_uri": "https://localhost:8080/",
          "height": 992
        },
        "id": "V4XhTqXsltL_",
        "outputId": "6c67ef7e-4855-4375-e9a4-5f2d78481b83"
      },
      "execution_count": null,
      "outputs": [
        {
          "output_type": "execute_result",
          "data": {
            "text/plain": [
              "{'whiskers': [<matplotlib.lines.Line2D at 0x7fbebfc2eaf0>,\n",
              "  <matplotlib.lines.Line2D at 0x7fbebfc2ed90>],\n",
              " 'caps': [<matplotlib.lines.Line2D at 0x7fbebfc05070>,\n",
              "  <matplotlib.lines.Line2D at 0x7fbebfc05310>],\n",
              " 'boxes': [<matplotlib.lines.Line2D at 0x7fbebfc2e850>],\n",
              " 'medians': [<matplotlib.lines.Line2D at 0x7fbebfc055b0>],\n",
              " 'fliers': [<matplotlib.lines.Line2D at 0x7fbebfc05850>],\n",
              " 'means': []}"
            ]
          },
          "metadata": {},
          "execution_count": 46
        },
        {
          "output_type": "display_data",
          "data": {
            "text/plain": [
              "<Figure size 1000x1000 with 1 Axes>"
            ],
            "image/png": "[encoded data removed]"
          },
          "metadata": {}
        }
      ]
    },
    {
      "cell_type": "code",
      "source": [
        "svm_com = PrettyTable(['Name','c','gamma','kernal','accuracy'])\n",
        "svm_com.add_row(['Inbuilt-function using grid search',svm_grid_para['C'],svm_grid_para['gamma'],svm_grid_para['kernel'],svm_grid_acc])\n",
        "svm_com.add_row(['Inbuilt-function using random search',svm_random_para['C'],svm_random_para['gamma'],svm_random_para['kernel'],svm_random_acc])\n",
        "svm_com.add_row(['Function using gird search',svm_grid_para1['c'],svm_grid_para1['gamma'],svm_grid_para1['kernel'],svm_grid_acc1])\n",
        "svm_com.add_row(['Function using random search',svm_random_para1['c'],svm_random_para1['gamma'],svm_random_para1['kernel'],svm_random_acc1])\n",
        "print(svm_com)\n",
        "\n"
      ],
      "metadata": {
        "colab": {
          "base_uri": "https://localhost:8080/"
        },
        "id": "FTjslmBRltPJ",
        "outputId": "9b62dc68-4b65-40be-a881-e2a4695c2906"
      },
      "execution_count": null,
      "outputs": [
        {
          "output_type": "stream",
          "name": "stdout",
          "text": [
            "+--------------------------------------+-------------------+----------------------+--------+--------------------+\n",
            "|                 Name                 |         c         |        gamma         | kernal |      accuracy      |\n",
            "+--------------------------------------+-------------------+----------------------+--------+--------------------+\n",
            "|  Inbuilt-function using grid search  |         3         |         0.1          |  rbf   | 0.9833333333333333 |\n",
            "| Inbuilt-function using random search | 16.68100537200059 | 0.000774263682681127 | linear | 0.9833333333333333 |\n",
            "|      Function using gird search      |         3         |         0.1          |  rbf   | 0.9833333333333333 |\n",
            "|     Function using random search     |         3         |         0.1          |  rbf   | 0.9833333333333333 |\n",
            "+--------------------------------------+-------------------+----------------------+--------+--------------------+\n"
          ]
        }
      ]
    },
    {
      "cell_type": "code",
      "source": [
        "from mpl_toolkits.mplot3d import Axes3D\n",
        "fig = plt.figure()\n",
        "ax = fig.add_subplot(111, projection='3d')\n",
        "\n",
        "ax.scatter(svm_random_list, svm_random_listc, svm_random_listg,)\n",
        "ax.scatter(svm_grid_acc1,svm_grid_para1['c'],svm_grid_para1['gamma'], marker='o', facecolors='red', s=80)\n",
        "ax.set_xlabel('accuracy')\n",
        "ax.set_ylabel('C Values')\n",
        "ax.set_zlabel('gamma Values')\n",
        "ax.set_title('SVM')\n",
        "plt.show()\n"
      ],
      "metadata": {
        "colab": {
          "base_uri": "https://localhost:8080/",
          "height": 439
        },
        "id": "zAoerFBEXjTj",
        "outputId": "d23e550d-ea87-4ef1-9733-3f66d2f04143"
      },
      "execution_count": null,
      "outputs": [
        {
          "output_type": "display_data",
          "data": {
            "text/plain": [
              "<Figure size 640x480 with 1 Axes>"
            ],
            "image/png": "[encoded data removed]"
          },
          "metadata": {}
        }
      ]
    },
    {
      "cell_type": "code",
      "source": [
        "x = [\"Grid Search\", \"Random Search\", \"Quick-Grid Search\", \"Quick-Random Search\"]\n",
        "y = [svm_grid_acc,svm_random_acc,svm_grid_acc1,svm_random_acc1]\n",
        "\n",
        "# Create bar chart\n",
        "plt.figure(figsize=(8, 6))\n",
        "plt.bar(x, y)\n",
        "# Add title and axis labels\n",
        "plt.title(\"SVM accuracy comparison\")\n",
        "plt.xlabel(\"Models\")\n",
        "plt.ylabel(\"Accuracy\")\n",
        "\n",
        "# Display chart\n",
        "plt.show()"
      ],
      "metadata": {
        "colab": {
          "base_uri": "https://localhost:8080/",
          "height": 564
        },
        "id": "VSvSBF1hc1Au",
        "outputId": "2ee85ca6-2559-4aaf-9508-0cb010c826d4"
      },
      "execution_count": null,
      "outputs": [
        {
          "output_type": "display_data",
          "data": {
            "text/plain": [
              "<Figure size 800x600 with 1 Axes>"
            ],
            "image/png": "[encoded data removed]"
          },
          "metadata": {}
        }
      ]
    },
    {
      "cell_type": "code",
      "source": [
        "\n"
      ],
      "metadata": {
        "id": "nifAxz0kcWsz"
      },
      "execution_count": null,
      "outputs": []
    },
    {
      "cell_type": "code",
      "source": [],
      "metadata": {
        "id": "WBzAaiincW3z"
      },
      "execution_count": null,
      "outputs": []
    },
    {
      "cell_type": "code",
      "source": [
        "from prettytable import PrettyTable\n",
        "\n",
        "# Create a table with three columns\n",
        "svm_table = PrettyTable(['Name', 'Accuracy', 'Computation time','c','gamma','kernal'])\n",
        "\n",
        "# Add some rows to the table\n",
        "svm_table.add_row(['default',svm_acc,computational_time_svm ,1.0,'scale','rbf'])\n",
        "svm_table.add_row(['grid search', svm_grid_acc, computation_time_svm_grid,svm_grid_para['C'],svm_grid_para['gamma'],svm_grid_para['kernel']])\n",
        "svm_table.add_row(['Random Search', svm_random_acc, computational_time_svm_random,svm_random_para['C'],svm_random_para['gamma'],svm_random_para['kernel']])\n",
        "svm_table.add_row(['Q-gird search',svm_grid_acc1,computational_time_svm_qgrid,svm_grid_para1['c'],svm_grid_para1['gamma'],svm_grid_para1['kernel']])\n",
        "svm_table.add_row(['Q-random search',svm_random_acc1,computational_time_svm_qrandom,svm_random_para1['c'],svm_random_para1['gamma'],svm_random_para1['kernel']])\n",
        "\n",
        "# Print the table\n",
        "print(svm_table)\n"
      ],
      "metadata": {
        "colab": {
          "base_uri": "https://localhost:8080/"
        },
        "id": "WD4QRPJPlkUA",
        "outputId": "ffd30b68-3a67-442e-a217-100235ad7cc4"
      },
      "execution_count": null,
      "outputs": [
        {
          "output_type": "stream",
          "name": "stdout",
          "text": [
            "+-----------------+--------------------+----------------------+-------------------+----------------------+--------+\n",
            "|       Name      |      Accuracy      |   Computation time   |         c         |        gamma         | kernal |\n",
            "+-----------------+--------------------+----------------------+-------------------+----------------------+--------+\n",
            "|     default     |        0.95        | 0.002233266830444336 |        1.0        |        scale         |  rbf   |\n",
            "|   grid search   | 0.9833333333333333 | 0.23396825790405273  |         3         |         0.1          |  rbf   |\n",
            "|  Random Search  | 0.9833333333333333 | 0.09456896781921387  | 16.68100537200059 | 0.000774263682681127 | linear |\n",
            "|  Q-gird search  | 0.9833333333333333 | 0.10871195793151855  |         3         |         0.1          |  rbf   |\n",
            "| Q-random search | 0.9833333333333333 | 0.12851428985595703  |         3         |         0.1          |  rbf   |\n",
            "+-----------------+--------------------+----------------------+-------------------+----------------------+--------+\n"
          ]
        }
      ]
    },
    {
      "cell_type": "markdown",
      "source": [
        "# KNN"
      ],
      "metadata": {
        "id": "2lB_MRydmIKa"
      }
    },
    {
      "cell_type": "code",
      "source": [
        "from sklearn.neighbors import KNeighborsClassifier\n",
        "knn = KNeighborsClassifier(n_neighbors=3)\n",
        ""
      ],
      "metadata": {
        "id": "c3qpunEsltSH"
      },
      "execution_count": null,
      "outputs": []
    },
    {
      "cell_type": "code",
      "source": [
        "sd=time.time()\n",
        "knn.fit(x_train,y_train)\n",
        "ed=time.time()\n",
        "computational_time_knn=ed-sd"
      ],
      "metadata": {
        "id": "vbaPm1__ltVK"
      },
      "execution_count": null,
      "outputs": []
    },
    {
      "cell_type": "code",
      "source": [
        "y_knn=knn.predict(x_test)\n"
      ],
      "metadata": {
        "id": "Hcbsj0-VltYY"
      },
      "execution_count": null,
      "outputs": []
    },
    {
      "cell_type": "code",
      "source": [
        "from sklearn.model_selection import GridSearchCV"
      ],
      "metadata": {
        "id": "DjRqmXdIltbQ"
      },
      "execution_count": null,
      "outputs": []
    },
    {
      "cell_type": "code",
      "source": [
        "knn = KNeighborsClassifier()\n",
        "k_range = list(range(1, 31))\n",
        "param_grid = dict(n_neighbors=k_range)\n",
        "knn_grid = GridSearchCV(knn, param_grid, cv=10, scoring='accuracy')\n"
      ],
      "metadata": {
        "id": "VxqzDMALlteX"
      },
      "execution_count": null,
      "outputs": []
    },
    {
      "cell_type": "code",
      "source": [
        "\n",
        "sg=time.time()\n",
        "knn_grid.fit(x_train,y_train)\n",
        "eg=time.time()\n",
        "computational_time_knn_grid=eg-sg"
      ],
      "metadata": {
        "id": "AMEkMjVjlthP"
      },
      "execution_count": null,
      "outputs": []
    },
    {
      "cell_type": "code",
      "source": [
        "best_params_knn_grid = knn_grid.best_params_\n",
        "print(best_params_knn_grid)"
      ],
      "metadata": {
        "colab": {
          "base_uri": "https://localhost:8080/"
        },
        "id": "7HcZw64Wltki",
        "outputId": "1296c2a5-b452-4768-bb9f-ddc74f18ff02"
      },
      "execution_count": null,
      "outputs": [
        {
          "output_type": "stream",
          "name": "stdout",
          "text": [
            "{'n_neighbors': 5}\n"
          ]
        }
      ]
    },
    {
      "cell_type": "code",
      "source": [
        "from sklearn.model_selection import RandomizedSearchCV\n",
        "k_range = list(range(1, 31))\n",
        "param_dist = dict(n_neighbors=k_range)\n",
        "knn_random = RandomizedSearchCV(knn, param_dist, cv=10, scoring='accuracy', n_iter=10)\n"
      ],
      "metadata": {
        "id": "G_GZTkWomYww"
      },
      "execution_count": null,
      "outputs": []
    },
    {
      "cell_type": "code",
      "source": [
        "sr=time.time()\n",
        "knn_random.fit(x_train,y_train)\n",
        "er=time.time()\n",
        "computational_time_knn_random=er-sr"
      ],
      "metadata": {
        "id": "RsfFM2qvmYzX"
      },
      "execution_count": null,
      "outputs": []
    },
    {
      "cell_type": "code",
      "source": [
        "best_params_knn_random = knn_random.best_params_\n",
        "print(best_params_knn_random)\n",
        "best_model_knn_random = knn_random.best_estimator_\n",
        "best_model_knn_grid = knn_grid.best_estimator_"
      ],
      "metadata": {
        "colab": {
          "base_uri": "https://localhost:8080/"
        },
        "id": "s45qw2OmmY5n",
        "outputId": "c5140e5d-8c42-4c28-9e86-840090f12a3b"
      },
      "execution_count": null,
      "outputs": [
        {
          "output_type": "stream",
          "name": "stdout",
          "text": [
            "{'n_neighbors': 2}\n"
          ]
        }
      ]
    },
    {
      "cell_type": "code",
      "source": [
        "knn_grid_prid=best_model_knn_grid.predict(x_test)\n",
        "knn_random_prid=best_model_knn_random.predict(x_test)\n"
      ],
      "metadata": {
        "id": "oZnSyZqomY87"
      },
      "execution_count": null,
      "outputs": []
    },
    {
      "cell_type": "code",
      "source": [
        "knn_acc=accuracy_score(y_test, y_knn)\n",
        "knn_mse=mean_squared_error(y_test,y_knn)\n",
        "knn_grid_acc=accuracy_score(y_test,knn_grid_prid)\n",
        "knn_grid_mse=mean_squared_error(y_test,knn_grid_prid)\n",
        "knn_random_acc=accuracy_score(y_test,knn_random_prid)\n",
        "knn_random_mse=mean_squared_error(y_test,knn_random_prid)"
      ],
      "metadata": {
        "id": "REGQrBXWmY_x"
      },
      "execution_count": null,
      "outputs": []
    },
    {
      "cell_type": "code",
      "source": [
        "knn_x=[\"knn\",\"grid\",\"random\"]\n",
        "knn_acc_plt=[knn_acc,knn_grid_acc,knn_random_acc]\n",
        "knn_mse_plt=[knn_mse,knn_grid_mse,knn_random_mse]\n",
        "knn_ct_plt=[computational_time_knn,computational_time_knn_grid,computational_time_knn_random]"
      ],
      "metadata": {
        "id": "xp7lXpXymZCf"
      },
      "execution_count": null,
      "outputs": []
    },
    {
      "cell_type": "code",
      "source": [
        "plt.subplot(1,3,1)\n",
        "plt.ylabel(\"Accuracy Score\")\n",
        "plt.bar(knn_x,knn_acc_plt)\n",
        "\n",
        "\n",
        "plt.subplot(1,3,2)\n",
        "plt.ylabel(\"Mean Squared Error\")\n",
        "plt.bar(knn_x,knn_mse_plt)\n",
        "\n",
        "\n",
        "plt.subplot(1,3,3)\n",
        "plt.ylabel(\"Computational Time\")\n",
        "plt.bar(knn_x,knn_ct_plt)\n",
        "plt.subplots_adjust(left=0.1,\n",
        "                    bottom=0.1,\n",
        "                    right=0.9,\n",
        "                    top=0.9,\n",
        "                    wspace=.9,\n",
        "                    hspace=0.6)\n",
        "plt.show()"
      ],
      "metadata": {
        "colab": {
          "base_uri": "https://localhost:8080/"
        },
        "id": "eYcVPns5mZFj",
        "outputId": "a074147a-7d05-4fca-d93b-2f6a9df6e3eb"
      },
      "execution_count": null,
      "outputs": [
        {
          "output_type": "display_data",
          "data": {
            "text/plain": [
              "<Figure size 640x480 with 3 Axes>"
            ],
            "image/png": "[encoded data removed]"
          },
          "metadata": {}
        }
      ]
    },
    {
      "cell_type": "code",
      "source": [
        "def knn_grid (lst,x_train,x_test,y_train,y_test) :\n",
        "  best_k=3\n",
        "  knn = KNeighborsClassifier(n_neighbors=3)\n",
        "  knn.fit(x_train,y_train)\n",
        "  y_knn=knn.predict(x_test)\n",
        "  knn_acc=accuracy_score(y_test, y_knn)\n",
        "  list=[]\n",
        "  listk=[]\n",
        "  knn_grid_table = PrettyTable(['Name','k','accuracy'])\n",
        "  for k in lst :\n",
        "    kn=KNeighborsClassifier(n_neighbors=k)\n",
        "    kn.fit(x_train,y_train)\n",
        "    y_t=kn.predict(x_test)\n",
        "    t_acc=accuracy_score(y_test, y_t)\n",
        "    list.append(t_acc)\n",
        "    listk.append(k)\n",
        "    knn_grid_table.add_row(['grid search',k,t_acc])\n",
        "    if (t_acc>knn_acc) :\n",
        "      knn_acc=t_acc\n",
        "      best_k=k\n",
        "  print(knn_grid_table)\n",
        "  return best_k,knn_acc,list,listk"
      ],
      "metadata": {
        "id": "tDNrNbVVmxe8"
      },
      "execution_count": null,
      "outputs": []
    },
    {
      "cell_type": "code",
      "source": [
        "k_range = list(range(1, 30))\n",
        "\n",
        "sg=time.time()\n",
        "\n",
        "\n",
        "best_kvalue1,best_acc1,knn_grid_list,knn_grid_listk=knn_grid(k_range,x_train,x_test,y_train,y_test)\n",
        "eg=time.time()\n",
        "computational_time_knn_qgrid=eg-sg"
      ],
      "metadata": {
        "colab": {
          "base_uri": "https://localhost:8080/"
        },
        "id": "EKD5yFaZmxiY",
        "outputId": "8ada2af2-8ac8-42d6-e919-e95711671734"
      },
      "execution_count": null,
      "outputs": [
        {
          "output_type": "stream",
          "name": "stdout",
          "text": [
            "+-------------+----+---------------------+\n",
            "|     Name    | k  |       accuracy      |\n",
            "+-------------+----+---------------------+\n",
            "| grid search | 1  |  0.9583333333333334 |\n",
            "| grid search | 2  |  0.9416666666666667 |\n",
            "| grid search | 3  |  0.9833333333333333 |\n",
            "| grid search | 4  |        0.975        |\n",
            "| grid search | 5  |  0.9833333333333333 |\n",
            "| grid search | 6  |  0.9833333333333333 |\n",
            "| grid search | 7  |        0.975        |\n",
            "| grid search | 8  |  0.9416666666666667 |\n",
            "| grid search | 9  |  0.9333333333333333 |\n",
            "| grid search | 10 |  0.9333333333333333 |\n",
            "| grid search | 11 |  0.9333333333333333 |\n",
            "| grid search | 12 |         0.65        |\n",
            "| grid search | 13 |         0.65        |\n",
            "| grid search | 14 |  0.6416666666666667 |\n",
            "| grid search | 15 |  0.6416666666666667 |\n",
            "| grid search | 16 |  0.6416666666666667 |\n",
            "| grid search | 17 |  0.6333333333333333 |\n",
            "| grid search | 18 |  0.6333333333333333 |\n",
            "| grid search | 19 |  0.6333333333333333 |\n",
            "| grid search | 20 |  0.6333333333333333 |\n",
            "| grid search | 21 |  0.6333333333333333 |\n",
            "| grid search | 22 |        0.625        |\n",
            "| grid search | 23 |  0.6166666666666667 |\n",
            "| grid search | 24 |  0.6166666666666667 |\n",
            "| grid search | 25 |         0.6         |\n",
            "| grid search | 26 |  0.5916666666666667 |\n",
            "| grid search | 27 | 0.30833333333333335 |\n",
            "| grid search | 28 | 0.30833333333333335 |\n",
            "| grid search | 29 | 0.30833333333333335 |\n",
            "+-------------+----+---------------------+\n"
          ]
        }
      ]
    },
    {
      "cell_type": "code",
      "source": [
        "figure = plt.figure(figsize =(10, 10))\n",
        "ax = figure.add_subplot(111)\n",
        "ax.set_xticklabels(['accuracy'])\n",
        "ax.set_title(\"knn grid search accuracy\")\n",
        "ax.boxplot([knn_grid_list])"
      ],
      "metadata": {
        "colab": {
          "base_uri": "https://localhost:8080/"
        },
        "id": "11_k9ok2mxmX",
        "outputId": "447c1ec1-55f3-4532-8434-9f417e0ac178"
      },
      "execution_count": null,
      "outputs": [
        {
          "output_type": "execute_result",
          "data": {
            "text/plain": [
              "{'whiskers': [<matplotlib.lines.Line2D at 0x7fbebd37f280>,\n",
              "  <matplotlib.lines.Line2D at 0x7fbebd37f520>],\n",
              " 'caps': [<matplotlib.lines.Line2D at 0x7fbebd37f7c0>,\n",
              "  <matplotlib.lines.Line2D at 0x7fbebd37fa60>],\n",
              " 'boxes': [<matplotlib.lines.Line2D at 0x7fbebdd7beb0>],\n",
              " 'medians': [<matplotlib.lines.Line2D at 0x7fbebd37fd00>],\n",
              " 'fliers': [<matplotlib.lines.Line2D at 0x7fbebd37ffa0>],\n",
              " 'means': []}"
            ]
          },
          "metadata": {},
          "execution_count": 67
        },
        {
          "output_type": "display_data",
          "data": {
            "text/plain": [
              "<Figure size 1000x1000 with 1 Axes>"
            ],
            "image/png": "[encoded data removed]"
          },
          "metadata": {}
        }
      ]
    },
    {
      "cell_type": "code",
      "source": [
        "figure = plt.figure(figsize =(10, 10))\n",
        "ax = figure.add_subplot(111)\n",
        "ax.set_xticklabels(['k'])\n",
        "ax.set_title(\"knn grid search k value\")\n",
        "ax.boxplot([knn_grid_listk])"
      ],
      "metadata": {
        "colab": {
          "base_uri": "https://localhost:8080/",
          "height": 992
        },
        "id": "8qML7wFmmxp_",
        "outputId": "c3e52aa8-29ac-4312-a20b-7fa392c8bbad"
      },
      "execution_count": null,
      "outputs": [
        {
          "output_type": "execute_result",
          "data": {
            "text/plain": [
              "{'whiskers': [<matplotlib.lines.Line2D at 0x7fbebd37beb0>,\n",
              "  <matplotlib.lines.Line2D at 0x7fbef403c520>],\n",
              " 'caps': [<matplotlib.lines.Line2D at 0x7fbecae5fb20>,\n",
              "  <matplotlib.lines.Line2D at 0x7fbebd2f9070>],\n",
              " 'boxes': [<matplotlib.lines.Line2D at 0x7fbebd38b880>],\n",
              " 'medians': [<matplotlib.lines.Line2D at 0x7fbebd2f9ac0>],\n",
              " 'fliers': [<matplotlib.lines.Line2D at 0x7fbebd2f9d60>],\n",
              " 'means': []}"
            ]
          },
          "metadata": {},
          "execution_count": 68
        },
        {
          "output_type": "display_data",
          "data": {
            "text/plain": [
              "<Figure size 1000x1000 with 1 Axes>"
            ],
            "image/png": "[encoded data removed]"
          },
          "metadata": {}
        }
      ]
    },
    {
      "cell_type": "code",
      "source": [
        "def knn_random (lst,x_train,x_test,y_train,y_test,maxitr) :\n",
        "  best_k=3\n",
        "  knn = KNeighborsClassifier(n_neighbors=3)\n",
        "  knn.fit(x_train,y_train)\n",
        "  y_knn=knn.predict(x_test)\n",
        "  list=[]\n",
        "  listk=[]\n",
        "  knn_grid_table = PrettyTable(['Name','k','accuracy'])\n",
        "  knn_acc=accuracy_score(y_test, y_knn)\n",
        "  listk.append(best_k)\n",
        "  list.append(knn_acc)\n",
        "  for _ in range(0,maxitr) :\n",
        "    k=random.choice(lst)\n",
        "    kn=KNeighborsClassifier(n_neighbors=k)\n",
        "    kn.fit(x_train,y_train)\n",
        "    y_t=kn.predict(x_test)\n",
        "    t_acc=accuracy_score(y_test, y_t)\n",
        "    knn_grid_table.add_row(['random search',k,t_acc])\n",
        "    listk.append(k)\n",
        "    list.append(t_acc)\n",
        "    if (t_acc>knn_acc) :\n",
        "      knn_acc=t_acc\n",
        "      best_k=k\n",
        "  print(knn_grid_table)\n",
        "\n",
        "  return best_k,knn_acc,list,listk\n"
      ],
      "metadata": {
        "id": "V83HlJuemxtf"
      },
      "execution_count": null,
      "outputs": []
    },
    {
      "cell_type": "code",
      "source": [
        "k_range = list(range(1,30))\n",
        "sr=time.time()\n",
        "\n",
        "\n",
        "best_kvalue,best_acc,knn_random_list,knn_random_listk=knn_random(k_range,x_train,x_test,y_train,y_test,30)\n",
        "er=time.time()\n",
        "computational_time_knn_qrandom=er-sr"
      ],
      "metadata": {
        "colab": {
          "base_uri": "https://localhost:8080/"
        },
        "id": "WTzRKPSanD_Y",
        "outputId": "7dfdda6e-f555-4569-ff79-32c9a827e889"
      },
      "execution_count": null,
      "outputs": [
        {
          "output_type": "stream",
          "name": "stdout",
          "text": [
            "+---------------+----+---------------------+\n",
            "|      Name     | k  |       accuracy      |\n",
            "+---------------+----+---------------------+\n",
            "| random search | 17 |  0.6333333333333333 |\n",
            "| random search | 3  |  0.9833333333333333 |\n",
            "| random search | 5  |  0.9833333333333333 |\n",
            "| random search | 27 | 0.30833333333333335 |\n",
            "| random search | 11 |  0.9333333333333333 |\n",
            "| random search | 25 |         0.6         |\n",
            "| random search | 12 |         0.65        |\n",
            "| random search | 19 |  0.6333333333333333 |\n",
            "| random search | 25 |         0.6         |\n",
            "| random search | 3  |  0.9833333333333333 |\n",
            "| random search | 19 |  0.6333333333333333 |\n",
            "| random search | 16 |  0.6416666666666667 |\n",
            "| random search | 19 |  0.6333333333333333 |\n",
            "| random search | 6  |  0.9833333333333333 |\n",
            "| random search | 15 |  0.6416666666666667 |\n",
            "| random search | 13 |         0.65        |\n",
            "| random search | 7  |        0.975        |\n",
            "| random search | 11 |  0.9333333333333333 |\n",
            "| random search | 16 |  0.6416666666666667 |\n",
            "| random search | 12 |         0.65        |\n",
            "| random search | 16 |  0.6416666666666667 |\n",
            "| random search | 9  |  0.9333333333333333 |\n",
            "| random search | 6  |  0.9833333333333333 |\n",
            "| random search | 22 |        0.625        |\n",
            "| random search | 16 |  0.6416666666666667 |\n",
            "| random search | 12 |         0.65        |\n",
            "| random search | 9  |  0.9333333333333333 |\n",
            "| random search | 24 |  0.6166666666666667 |\n",
            "| random search | 23 |  0.6166666666666667 |\n",
            "| random search | 26 |  0.5916666666666667 |\n",
            "+---------------+----+---------------------+\n"
          ]
        }
      ]
    },
    {
      "cell_type": "code",
      "source": [
        "figure = plt.figure(figsize =(10, 10))\n",
        "ax = figure.add_subplot(111)\n",
        "ax.set_xticklabels(['k'])\n",
        "ax.set_title(\"knn random search accuracy\")\n",
        "ax.boxplot([knn_random_list])"
      ],
      "metadata": {
        "colab": {
          "base_uri": "https://localhost:8080/",
          "height": 992
        },
        "id": "Hm4irlfPnECe",
        "outputId": "9cc7f139-e512-4f41-c712-8761280bd4b7"
      },
      "execution_count": null,
      "outputs": [
        {
          "output_type": "execute_result",
          "data": {
            "text/plain": [
              "{'whiskers': [<matplotlib.lines.Line2D at 0x7fbebd285130>,\n",
              "  <matplotlib.lines.Line2D at 0x7fbebd2853d0>],\n",
              " 'caps': [<matplotlib.lines.Line2D at 0x7fbebd285670>,\n",
              "  <matplotlib.lines.Line2D at 0x7fbebd285910>],\n",
              " 'boxes': [<matplotlib.lines.Line2D at 0x7fbebd27f160>],\n",
              " 'medians': [<matplotlib.lines.Line2D at 0x7fbebd285bb0>],\n",
              " 'fliers': [<matplotlib.lines.Line2D at 0x7fbebd285e50>],\n",
              " 'means': []}"
            ]
          },
          "metadata": {},
          "execution_count": 71
        },
        {
          "output_type": "display_data",
          "data": {
            "text/plain": [
              "<Figure size 1000x1000 with 1 Axes>"
            ],
            "image/png": "[encoded data removed]"
          },
          "metadata": {}
        }
      ]
    },
    {
      "cell_type": "code",
      "source": [
        "figure = plt.figure(figsize =(10, 10))\n",
        "ax = figure.add_subplot(111)\n",
        "ax.set_xticklabels(['k'])\n",
        "ax.set_title(\"knn random search k value\")\n",
        "ax.boxplot([knn_random_listk])"
      ],
      "metadata": {
        "colab": {
          "base_uri": "https://localhost:8080/",
          "height": 992
        },
        "id": "QNXzrpZ7nEGx",
        "outputId": "b3682833-c105-40de-8c21-e95bbcc04290"
      },
      "execution_count": null,
      "outputs": [
        {
          "output_type": "execute_result",
          "data": {
            "text/plain": [
              "{'whiskers': [<matplotlib.lines.Line2D at 0x7fbebd2072e0>,\n",
              "  <matplotlib.lines.Line2D at 0x7fbebd207580>],\n",
              " 'caps': [<matplotlib.lines.Line2D at 0x7fbebd207820>,\n",
              "  <matplotlib.lines.Line2D at 0x7fbebd207ac0>],\n",
              " 'boxes': [<matplotlib.lines.Line2D at 0x7fbebd207040>],\n",
              " 'medians': [<matplotlib.lines.Line2D at 0x7fbebd207d60>],\n",
              " 'fliers': [<matplotlib.lines.Line2D at 0x7fbebd213040>],\n",
              " 'means': []}"
            ]
          },
          "metadata": {},
          "execution_count": 72
        },
        {
          "output_type": "display_data",
          "data": {
            "text/plain": [
              "<Figure size 1000x1000 with 1 Axes>"
            ],
            "image/png": "[encoded data removed]"
          },
          "metadata": {}
        }
      ]
    },
    {
      "cell_type": "code",
      "source": [
        "knn_com = PrettyTable(['Name','k','accuracy'])\n",
        "knn_com.add_row(['Inbuilt-function using grid search',best_params_knn_grid['n_neighbors'],knn_grid_acc])\n",
        "knn_com.add_row(['Inbuilt-function using random search',best_params_knn_random['n_neighbors'],knn_random_acc])\n",
        "knn_com.add_row(['Function using gird search',best_kvalue1,best_acc1])\n",
        "knn_com.add_row(['Function using random search',best_kvalue,best_acc])\n",
        "print(knn_com)\n",
        "print('best values',best_kvalue1,'|best accuracy',best_acc1)\n"
      ],
      "metadata": {
        "colab": {
          "base_uri": "https://localhost:8080/"
        },
        "id": "S2VUpKz7nQSQ",
        "outputId": "901ca276-3353-4b6e-cdd6-ec8255ba11b9"
      },
      "execution_count": null,
      "outputs": [
        {
          "output_type": "stream",
          "name": "stdout",
          "text": [
            "+--------------------------------------+---+--------------------+\n",
            "|                 Name                 | k |      accuracy      |\n",
            "+--------------------------------------+---+--------------------+\n",
            "|  Inbuilt-function using grid search  | 5 | 0.9833333333333333 |\n",
            "| Inbuilt-function using random search | 2 | 0.9416666666666667 |\n",
            "|      Function using gird search      | 3 | 0.9833333333333333 |\n",
            "|     Function using random search     | 3 | 0.9833333333333333 |\n",
            "+--------------------------------------+---+--------------------+\n",
            "best values 3 |best accuracy 0.9833333333333333\n"
          ]
        }
      ]
    },
    {
      "cell_type": "code",
      "source": [
        "plt.scatter(knn_grid_list,knn_grid_listk)\n",
        "plt.scatter(best_acc1,best_kvalue1,marker='o',facecolor='red',s=80)\n",
        "plt.xlabel('accuracy')\n",
        "plt.ylabel('K Values')\n",
        "plt.title('KNN')\n",
        "plt.show()"
      ],
      "metadata": {
        "colab": {
          "base_uri": "https://localhost:8080/",
          "height": 472
        },
        "id": "VwSu0T6xWTVK",
        "outputId": "b95397a1-7c15-4460-b634-2a7d44956a94"
      },
      "execution_count": null,
      "outputs": [
        {
          "output_type": "display_data",
          "data": {
            "text/plain": [
              "<Figure size 640x480 with 1 Axes>"
            ],
            "image/png": "[encoded data removed]"
          },
          "metadata": {}
        }
      ]
    },
    {
      "cell_type": "code",
      "source": [
        "x = [\"Grid Search\", \"Random Search\", \"Quick-Grid Search\", \"Quick-Random Search\"]\n",
        "y = [knn_grid_acc,knn_random_acc,best_acc1,best_acc]\n",
        "\n",
        "# Create bar chart\n",
        "plt.figure(figsize=(8, 6))\n",
        "plt.bar(x, y)\n",
        "# Add title and axis labels\n",
        "plt.title(\"KNN accuracy comparison\")\n",
        "plt.xlabel(\"Models\")\n",
        "plt.ylabel(\"Accuracy\")\n",
        "\n",
        "# Display chart\n",
        "plt.show()"
      ],
      "metadata": {
        "colab": {
          "base_uri": "https://localhost:8080/",
          "height": 564
        },
        "id": "O3F_JeVQedfq",
        "outputId": "187269b4-e58d-40ad-e44b-76eae3c26e30"
      },
      "execution_count": null,
      "outputs": [
        {
          "output_type": "display_data",
          "data": {
            "text/plain": [
              "<Figure size 800x600 with 1 Axes>"
            ],
            "image/png": "[encoded data removed]"
          },
          "metadata": {}
        }
      ]
    },
    {
      "cell_type": "code",
      "source": [
        "from prettytable import PrettyTable\n",
        "\n",
        "# Create a table with three columns\n",
        "knn_table = PrettyTable(['Name', 'Accuracy', 'Computation time','no of neighbors'])\n",
        "\n",
        "# Add some rows to the table\n",
        "knn_table.add_row(['default',knn_acc,computational_time_knn ,3.0])\n",
        "knn_table.add_row(['grid search', knn_grid_acc, computational_time_knn_grid,best_params_knn_grid['n_neighbors']])\n",
        "knn_table.add_row(['Random Search', knn_random_acc, computational_time_knn_random,best_params_knn_random['n_neighbors']])\n",
        "knn_table.add_row(['Q-gird search',best_acc1, computational_time_knn_qgrid,best_kvalue1])\n",
        "knn_table.add_row(['Q-random search',best_acc, computational_time_knn_qrandom,best_kvalue])\n",
        "\n",
        "# Print the table\n",
        "print(knn_table)"
      ],
      "metadata": {
        "colab": {
          "base_uri": "https://localhost:8080/"
        },
        "id": "rd7yQlp5mZIw",
        "outputId": "751de935-ee87-450b-a0c6-99779fbdf06f"
      },
      "execution_count": null,
      "outputs": [
        {
          "output_type": "stream",
          "name": "stdout",
          "text": [
            "+-----------------+--------------------+----------------------+-----------------+\n",
            "|       Name      |      Accuracy      |   Computation time   | no of neighbors |\n",
            "+-----------------+--------------------+----------------------+-----------------+\n",
            "|     default     | 0.9833333333333333 | 0.003255605697631836 |       3.0       |\n",
            "|   grid search   | 0.9833333333333333 |  1.440317153930664   |        5        |\n",
            "|  Random Search  | 0.9416666666666667 | 0.35674595832824707  |        2        |\n",
            "|  Q-gird search  | 0.9833333333333333 | 0.20120596885681152  |        3        |\n",
            "| Q-random search | 0.9833333333333333 |  0.2118844985961914  |        3        |\n",
            "+-----------------+--------------------+----------------------+-----------------+\n"
          ]
        }
      ]
    }
  ]
}